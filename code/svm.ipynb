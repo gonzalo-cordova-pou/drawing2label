{
  "nbformat": 4,
  "nbformat_minor": 5,
  "metadata": {
    "kernelspec": {
      "display_name": "Python 3",
      "language": "python",
      "name": "python3"
    },
    "language_info": {
      "codemirror_mode": {
        "name": "ipython",
        "version": 3
      },
      "file_extension": ".py",
      "mimetype": "text/x-python",
      "name": "python",
      "nbconvert_exporter": "python",
      "pygments_lexer": "ipython3",
      "version": "3.6.9"
    },
    "colab": {
      "name": "svm.ipynb",
      "provenance": [],
      "collapsed_sections": []
    }
  },
  "cells": [
    {
      "cell_type": "markdown",
      "metadata": {
        "id": "2256e9e3"
      },
      "source": [
        "# MACHINE LERNING FOR DRAWINGS CLASSIFICATION\n",
        "### IMPLEMENTATION OF A KERNEL SVM FOR MULTICLASS CLASSIFICATION"
      ],
      "id": "2256e9e3"
    },
    {
      "cell_type": "markdown",
      "metadata": {
        "id": "d3b5056b"
      },
      "source": [
        "First we import all libraries we will need along the project"
      ],
      "id": "d3b5056b"
    },
    {
      "cell_type": "code",
      "metadata": {
        "id": "37d77c96"
      },
      "source": [
        "import urllib.request\n",
        "import os \n",
        "import numpy as np\n",
        "from sklearn.model_selection import train_test_split\n",
        "from sklearn.svm import SVC\n",
        "from sklearn.model_selection import cross_val_score\n",
        "from sklearn.preprocessing import StandardScaler\n",
        "from sklearn.model_selection import cross_validate\n",
        "import pandas as pd\n",
        "import errno\n",
        "from sklearn.model_selection import GridSearchCV\n",
        "from sklearn.metrics import accuracy_score,confusion_matrix\n",
        "import seaborn as sns\n",
        "\n",
        "%matplotlib inline"
      ],
      "id": "37d77c96",
      "execution_count": null,
      "outputs": []
    },
    {
      "cell_type": "markdown",
      "metadata": {
        "id": "7e0a4536"
      },
      "source": [
        "We used a function found at a [Github repository](https://github.com/zaidalyafeai/QuickDraw10/blob/master/quick_draw10.py) and made by user [Zaid Alyafeai](https://github.com/zaidalyafeai) that downloaded the dataset to our computer and then laods it to the notebook."
      ],
      "id": "7e0a4536"
    },
    {
      "cell_type": "code",
      "metadata": {
        "id": "ae6c4933"
      },
      "source": [
        "def download_and_load(test_split = 0.2, max_items_per_class = 10000):\n",
        "    root = 'data'\n",
        "    try:\n",
        "        os.mkdir(root)\n",
        "    except OSError as exc:\n",
        "        if exc.errno != errno.EEXIST:\n",
        "            raise\n",
        "        pass   \n",
        "    print('downloading ...')\n",
        "    base = 'https://storage.googleapis.com/quickdraw_dataset/full/numpy_bitmap/'\n",
        "    for c in class_names:\n",
        "        path = base+c+'.npy'\n",
        "        print(path)\n",
        "        urllib.request.urlretrieve(path, f'{root}/{c}.npy')\n",
        "    print('loading ...')\n",
        "  \n",
        "    #initialize variables \n",
        "    x = np.empty([0, 784])\n",
        "    y = np.empty([0])\n",
        "    \n",
        "    #load each data file \n",
        "    for idx, file in enumerate(class_names):\n",
        "        data = np.load(f'{root}/{file}.npy')\n",
        "        data = data[0: max_items_per_class, :]\n",
        "        labels = np.full(data.shape[0], idx)\n",
        "\n",
        "        x = np.concatenate((x, data), axis=0)\n",
        "        y = np.append(y, labels)\n",
        "\n",
        "    data = None\n",
        "    labels = None\n",
        "\n",
        "    #randomize the dataset \n",
        "    permutation = np.random.permutation(y.shape[0])\n",
        "    x = x[permutation, :]\n",
        "    y = y[permutation]\n",
        "\n",
        "    #reshape and inverse the colors \n",
        "    x = 255 - np.reshape(x, (x.shape[0], 28, 28))\n",
        "\n",
        "    #separate into training and testing \n",
        "    test_size  = int(x.shape[0]/100*(test_split*100))\n",
        "\n",
        "    x_test = x[0:test_size, :]\n",
        "    y_test = y[0:test_size]\n",
        "\n",
        "    x_train = x[test_size:x.shape[0], :]\n",
        "    y_train = y[test_size:y.shape[0]]\n",
        "  \n",
        "    print('Training Data : ', x_train.shape[0])\n",
        "    print('Testing  Data : ', x_test.shape[0])\n",
        "    return x_train, y_train, x_test, y_test, class_names"
      ],
      "id": "ae6c4933",
      "execution_count": null,
      "outputs": []
    },
    {
      "cell_type": "markdown",
      "metadata": {
        "id": "f2c10484"
      },
      "source": [
        "At this part we can select what will be the words that our model will have to classify. The options in the are indicated in the following link https://github.com/googlecreativelab/quickdraw-dataset/blob/master/categories.txt\n",
        "\n",
        "Notice that you can select as many as you want, but the more you choose, the higher the computational cost."
      ],
      "id": "f2c10484"
    },
    {
      "cell_type": "code",
      "metadata": {
        "id": "cd3d6bfc"
      },
      "source": [
        "class_names = ['cloud','sun', 'umbrella', 'eyeglasses']\n",
        "#,'pants',,'table','ladder','eyeglasses','clock','scissors','cup'] "
      ],
      "id": "cd3d6bfc",
      "execution_count": null,
      "outputs": []
    },
    {
      "cell_type": "markdown",
      "metadata": {
        "id": "959e1e7f"
      },
      "source": [
        "# Download and load the selected categories and building the dataframes:"
      ],
      "id": "959e1e7f"
    },
    {
      "cell_type": "markdown",
      "metadata": {
        "id": "3b3a60f9"
      },
      "source": [
        "Select number of items per class on the first line:"
      ],
      "id": "3b3a60f9"
    },
    {
      "cell_type": "code",
      "metadata": {
        "scrolled": false,
        "id": "8f4dee79",
        "outputId": "d6811122-a0c0-4df8-beae-65780887678c"
      },
      "source": [
        "x_train, y_train, x_test, y_test, class_names = download_and_load(max_items_per_class = 10000)\n",
        "\n",
        "x = np.concatenate((x_train, x_test), axis=0)\n",
        "y = np.concatenate((y_train, y_test), axis=0)\n",
        "data = []\n",
        "for label in range(0, len(class_names)):\n",
        "    for img in  x[y == label]:\n",
        "        img = img.astype(int)\n",
        "        for i in range(0, len(img)):\n",
        "            for j in range(0, len(img[i])):\n",
        "                if (img[i][j] > 127):\n",
        "                    img[i][j] = 0\n",
        "                else:\n",
        "                    img[i][j] = 1\n",
        "        data.append([class_names[label]]+img.flatten().tolist())\n",
        "column_names = [\"label\"]\n",
        "for i in range(0, 784):\n",
        "    column_names.append(str(i))\n",
        "dataset = pd.DataFrame(data, columns=column_names) \n",
        "dataset = dataset.sample(frac=1).reset_index(drop=True)\n",
        "dataset.head()"
      ],
      "id": "8f4dee79",
      "execution_count": null,
      "outputs": [
        {
          "name": "stdout",
          "output_type": "stream",
          "text": [
            "downloading ...\n",
            "https://storage.googleapis.com/quickdraw_dataset/full/numpy_bitmap/cloud.npy\n",
            "https://storage.googleapis.com/quickdraw_dataset/full/numpy_bitmap/sun.npy\n",
            "https://storage.googleapis.com/quickdraw_dataset/full/numpy_bitmap/umbrella.npy\n",
            "https://storage.googleapis.com/quickdraw_dataset/full/numpy_bitmap/eyeglasses.npy\n",
            "loading ...\n",
            "Training Data :  32000\n",
            "Testing  Data :  8000\n"
          ]
        },
        {
          "data": {
            "text/html": [
              "<div>\n",
              "<style scoped>\n",
              "    .dataframe tbody tr th:only-of-type {\n",
              "        vertical-align: middle;\n",
              "    }\n",
              "\n",
              "    .dataframe tbody tr th {\n",
              "        vertical-align: top;\n",
              "    }\n",
              "\n",
              "    .dataframe thead th {\n",
              "        text-align: right;\n",
              "    }\n",
              "</style>\n",
              "<table border=\"1\" class=\"dataframe\">\n",
              "  <thead>\n",
              "    <tr style=\"text-align: right;\">\n",
              "      <th></th>\n",
              "      <th>label</th>\n",
              "      <th>0</th>\n",
              "      <th>1</th>\n",
              "      <th>2</th>\n",
              "      <th>3</th>\n",
              "      <th>4</th>\n",
              "      <th>5</th>\n",
              "      <th>6</th>\n",
              "      <th>7</th>\n",
              "      <th>8</th>\n",
              "      <th>...</th>\n",
              "      <th>774</th>\n",
              "      <th>775</th>\n",
              "      <th>776</th>\n",
              "      <th>777</th>\n",
              "      <th>778</th>\n",
              "      <th>779</th>\n",
              "      <th>780</th>\n",
              "      <th>781</th>\n",
              "      <th>782</th>\n",
              "      <th>783</th>\n",
              "    </tr>\n",
              "  </thead>\n",
              "  <tbody>\n",
              "    <tr>\n",
              "      <th>0</th>\n",
              "      <td>eyeglasses</td>\n",
              "      <td>0</td>\n",
              "      <td>0</td>\n",
              "      <td>0</td>\n",
              "      <td>0</td>\n",
              "      <td>0</td>\n",
              "      <td>0</td>\n",
              "      <td>0</td>\n",
              "      <td>0</td>\n",
              "      <td>0</td>\n",
              "      <td>...</td>\n",
              "      <td>0</td>\n",
              "      <td>0</td>\n",
              "      <td>0</td>\n",
              "      <td>0</td>\n",
              "      <td>0</td>\n",
              "      <td>0</td>\n",
              "      <td>0</td>\n",
              "      <td>0</td>\n",
              "      <td>0</td>\n",
              "      <td>0</td>\n",
              "    </tr>\n",
              "    <tr>\n",
              "      <th>1</th>\n",
              "      <td>umbrella</td>\n",
              "      <td>0</td>\n",
              "      <td>0</td>\n",
              "      <td>0</td>\n",
              "      <td>0</td>\n",
              "      <td>0</td>\n",
              "      <td>0</td>\n",
              "      <td>0</td>\n",
              "      <td>0</td>\n",
              "      <td>0</td>\n",
              "      <td>...</td>\n",
              "      <td>0</td>\n",
              "      <td>0</td>\n",
              "      <td>0</td>\n",
              "      <td>0</td>\n",
              "      <td>0</td>\n",
              "      <td>0</td>\n",
              "      <td>0</td>\n",
              "      <td>0</td>\n",
              "      <td>0</td>\n",
              "      <td>0</td>\n",
              "    </tr>\n",
              "    <tr>\n",
              "      <th>2</th>\n",
              "      <td>sun</td>\n",
              "      <td>0</td>\n",
              "      <td>0</td>\n",
              "      <td>0</td>\n",
              "      <td>0</td>\n",
              "      <td>0</td>\n",
              "      <td>0</td>\n",
              "      <td>0</td>\n",
              "      <td>0</td>\n",
              "      <td>0</td>\n",
              "      <td>...</td>\n",
              "      <td>0</td>\n",
              "      <td>0</td>\n",
              "      <td>0</td>\n",
              "      <td>0</td>\n",
              "      <td>0</td>\n",
              "      <td>0</td>\n",
              "      <td>0</td>\n",
              "      <td>0</td>\n",
              "      <td>0</td>\n",
              "      <td>0</td>\n",
              "    </tr>\n",
              "    <tr>\n",
              "      <th>3</th>\n",
              "      <td>umbrella</td>\n",
              "      <td>0</td>\n",
              "      <td>0</td>\n",
              "      <td>0</td>\n",
              "      <td>0</td>\n",
              "      <td>0</td>\n",
              "      <td>0</td>\n",
              "      <td>0</td>\n",
              "      <td>0</td>\n",
              "      <td>0</td>\n",
              "      <td>...</td>\n",
              "      <td>0</td>\n",
              "      <td>0</td>\n",
              "      <td>0</td>\n",
              "      <td>0</td>\n",
              "      <td>0</td>\n",
              "      <td>0</td>\n",
              "      <td>0</td>\n",
              "      <td>0</td>\n",
              "      <td>0</td>\n",
              "      <td>0</td>\n",
              "    </tr>\n",
              "    <tr>\n",
              "      <th>4</th>\n",
              "      <td>umbrella</td>\n",
              "      <td>0</td>\n",
              "      <td>0</td>\n",
              "      <td>0</td>\n",
              "      <td>0</td>\n",
              "      <td>0</td>\n",
              "      <td>0</td>\n",
              "      <td>0</td>\n",
              "      <td>0</td>\n",
              "      <td>0</td>\n",
              "      <td>...</td>\n",
              "      <td>0</td>\n",
              "      <td>0</td>\n",
              "      <td>0</td>\n",
              "      <td>0</td>\n",
              "      <td>0</td>\n",
              "      <td>0</td>\n",
              "      <td>0</td>\n",
              "      <td>0</td>\n",
              "      <td>0</td>\n",
              "      <td>0</td>\n",
              "    </tr>\n",
              "  </tbody>\n",
              "</table>\n",
              "<p>5 rows × 785 columns</p>\n",
              "</div>"
            ],
            "text/plain": [
              "        label  0  1  2  3  4  5  6  7  8  ...  774  775  776  777  778  779  \\\n",
              "0  eyeglasses  0  0  0  0  0  0  0  0  0  ...    0    0    0    0    0    0   \n",
              "1    umbrella  0  0  0  0  0  0  0  0  0  ...    0    0    0    0    0    0   \n",
              "2         sun  0  0  0  0  0  0  0  0  0  ...    0    0    0    0    0    0   \n",
              "3    umbrella  0  0  0  0  0  0  0  0  0  ...    0    0    0    0    0    0   \n",
              "4    umbrella  0  0  0  0  0  0  0  0  0  ...    0    0    0    0    0    0   \n",
              "\n",
              "   780  781  782  783  \n",
              "0    0    0    0    0  \n",
              "1    0    0    0    0  \n",
              "2    0    0    0    0  \n",
              "3    0    0    0    0  \n",
              "4    0    0    0    0  \n",
              "\n",
              "[5 rows x 785 columns]"
            ]
          },
          "execution_count": 4,
          "metadata": {},
          "output_type": "execute_result"
        }
      ]
    },
    {
      "cell_type": "code",
      "metadata": {
        "id": "24f199d9",
        "outputId": "d01d7eae-0eea-451c-a60a-5b751e5afb25"
      },
      "source": [
        "len(dataset)"
      ],
      "id": "24f199d9",
      "execution_count": null,
      "outputs": [
        {
          "data": {
            "text/plain": [
              "40000"
            ]
          },
          "execution_count": 5,
          "metadata": {},
          "output_type": "execute_result"
        }
      ]
    },
    {
      "cell_type": "code",
      "metadata": {
        "id": "c4bcee41",
        "outputId": "af70a3e2-48d1-49da-cd9e-d448cc3cc317"
      },
      "source": [
        "dataset_mini = dataset.iloc[0:2000,:]\n",
        "X = dataset_mini.iloc[:,1:].values\n",
        "y = dataset_mini.iloc[:,0].values\n",
        "len(X)"
      ],
      "id": "c4bcee41",
      "execution_count": null,
      "outputs": [
        {
          "data": {
            "text/plain": [
              "2000"
            ]
          },
          "execution_count": 6,
          "metadata": {},
          "output_type": "execute_result"
        }
      ]
    },
    {
      "cell_type": "markdown",
      "metadata": {
        "id": "ff463ca7"
      },
      "source": [
        "# Tuning the hyper-parameters of our estimator"
      ],
      "id": "ff463ca7"
    },
    {
      "cell_type": "markdown",
      "metadata": {
        "id": "24fb6dac"
      },
      "source": [
        "Exhaustive Grid Search"
      ],
      "id": "24fb6dac"
    },
    {
      "cell_type": "code",
      "metadata": {
        "id": "e166657c"
      },
      "source": [
        "parameters = [\n",
        "  {'C': [1, 10, 100, 1000], 'gamma': [1, 0.1, 0.01, 0.001, 0.0001], 'kernel': ['linear']},\n",
        "  {'C': [1, 10, 100, 1000], 'gamma': [1, 0.1, 0.01, 0.001, 0.0001], 'kernel': ['rbf']},\n",
        "    {'C': [1, 10, 100, 1000], 'gamma': [1, 0.1, 0.01, 0.001, 0.0001], 'kernel': ['poly']},\n",
        " ]\n",
        "model = SVC()\n",
        "clf = GridSearchCV(model, parameters)\n",
        "grid = clf.fit(X, y)"
      ],
      "id": "e166657c",
      "execution_count": null,
      "outputs": []
    },
    {
      "cell_type": "code",
      "metadata": {
        "id": "f74d050a",
        "outputId": "9ff343ba-1b11-4269-a284-e7c6bd024baf"
      },
      "source": [
        "result = pd.DataFrame(grid.cv_results_)\n",
        "result.head(5)"
      ],
      "id": "f74d050a",
      "execution_count": null,
      "outputs": [
        {
          "data": {
            "text/html": [
              "<div>\n",
              "<style scoped>\n",
              "    .dataframe tbody tr th:only-of-type {\n",
              "        vertical-align: middle;\n",
              "    }\n",
              "\n",
              "    .dataframe tbody tr th {\n",
              "        vertical-align: top;\n",
              "    }\n",
              "\n",
              "    .dataframe thead th {\n",
              "        text-align: right;\n",
              "    }\n",
              "</style>\n",
              "<table border=\"1\" class=\"dataframe\">\n",
              "  <thead>\n",
              "    <tr style=\"text-align: right;\">\n",
              "      <th></th>\n",
              "      <th>mean_fit_time</th>\n",
              "      <th>std_fit_time</th>\n",
              "      <th>mean_score_time</th>\n",
              "      <th>std_score_time</th>\n",
              "      <th>param_C</th>\n",
              "      <th>param_gamma</th>\n",
              "      <th>param_kernel</th>\n",
              "      <th>params</th>\n",
              "      <th>split0_test_score</th>\n",
              "      <th>split1_test_score</th>\n",
              "      <th>split2_test_score</th>\n",
              "      <th>split3_test_score</th>\n",
              "      <th>split4_test_score</th>\n",
              "      <th>mean_test_score</th>\n",
              "      <th>std_test_score</th>\n",
              "      <th>rank_test_score</th>\n",
              "    </tr>\n",
              "  </thead>\n",
              "  <tbody>\n",
              "    <tr>\n",
              "      <th>0</th>\n",
              "      <td>0.188692</td>\n",
              "      <td>0.007492</td>\n",
              "      <td>0.039595</td>\n",
              "      <td>0.002325</td>\n",
              "      <td>1</td>\n",
              "      <td>1</td>\n",
              "      <td>linear</td>\n",
              "      <td>{'C': 1, 'gamma': 1, 'kernel': 'linear'}</td>\n",
              "      <td>0.835</td>\n",
              "      <td>0.835</td>\n",
              "      <td>0.8375</td>\n",
              "      <td>0.85</td>\n",
              "      <td>0.845</td>\n",
              "      <td>0.8405</td>\n",
              "      <td>0.006</td>\n",
              "      <td>25</td>\n",
              "    </tr>\n",
              "    <tr>\n",
              "      <th>1</th>\n",
              "      <td>0.198094</td>\n",
              "      <td>0.007209</td>\n",
              "      <td>0.039309</td>\n",
              "      <td>0.001683</td>\n",
              "      <td>1</td>\n",
              "      <td>0.1</td>\n",
              "      <td>linear</td>\n",
              "      <td>{'C': 1, 'gamma': 0.1, 'kernel': 'linear'}</td>\n",
              "      <td>0.835</td>\n",
              "      <td>0.835</td>\n",
              "      <td>0.8375</td>\n",
              "      <td>0.85</td>\n",
              "      <td>0.845</td>\n",
              "      <td>0.8405</td>\n",
              "      <td>0.006</td>\n",
              "      <td>25</td>\n",
              "    </tr>\n",
              "    <tr>\n",
              "      <th>2</th>\n",
              "      <td>0.191025</td>\n",
              "      <td>0.009334</td>\n",
              "      <td>0.038723</td>\n",
              "      <td>0.001047</td>\n",
              "      <td>1</td>\n",
              "      <td>0.01</td>\n",
              "      <td>linear</td>\n",
              "      <td>{'C': 1, 'gamma': 0.01, 'kernel': 'linear'}</td>\n",
              "      <td>0.835</td>\n",
              "      <td>0.835</td>\n",
              "      <td>0.8375</td>\n",
              "      <td>0.85</td>\n",
              "      <td>0.845</td>\n",
              "      <td>0.8405</td>\n",
              "      <td>0.006</td>\n",
              "      <td>25</td>\n",
              "    </tr>\n",
              "    <tr>\n",
              "      <th>3</th>\n",
              "      <td>0.194396</td>\n",
              "      <td>0.006674</td>\n",
              "      <td>0.038751</td>\n",
              "      <td>0.001106</td>\n",
              "      <td>1</td>\n",
              "      <td>0.001</td>\n",
              "      <td>linear</td>\n",
              "      <td>{'C': 1, 'gamma': 0.001, 'kernel': 'linear'}</td>\n",
              "      <td>0.835</td>\n",
              "      <td>0.835</td>\n",
              "      <td>0.8375</td>\n",
              "      <td>0.85</td>\n",
              "      <td>0.845</td>\n",
              "      <td>0.8405</td>\n",
              "      <td>0.006</td>\n",
              "      <td>25</td>\n",
              "    </tr>\n",
              "    <tr>\n",
              "      <th>4</th>\n",
              "      <td>0.189921</td>\n",
              "      <td>0.010017</td>\n",
              "      <td>0.038875</td>\n",
              "      <td>0.000889</td>\n",
              "      <td>1</td>\n",
              "      <td>0.0001</td>\n",
              "      <td>linear</td>\n",
              "      <td>{'C': 1, 'gamma': 0.0001, 'kernel': 'linear'}</td>\n",
              "      <td>0.835</td>\n",
              "      <td>0.835</td>\n",
              "      <td>0.8375</td>\n",
              "      <td>0.85</td>\n",
              "      <td>0.845</td>\n",
              "      <td>0.8405</td>\n",
              "      <td>0.006</td>\n",
              "      <td>25</td>\n",
              "    </tr>\n",
              "  </tbody>\n",
              "</table>\n",
              "</div>"
            ],
            "text/plain": [
              "   mean_fit_time  std_fit_time  mean_score_time  std_score_time param_C  \\\n",
              "0       0.188692      0.007492         0.039595        0.002325       1   \n",
              "1       0.198094      0.007209         0.039309        0.001683       1   \n",
              "2       0.191025      0.009334         0.038723        0.001047       1   \n",
              "3       0.194396      0.006674         0.038751        0.001106       1   \n",
              "4       0.189921      0.010017         0.038875        0.000889       1   \n",
              "\n",
              "  param_gamma param_kernel                                         params  \\\n",
              "0           1       linear       {'C': 1, 'gamma': 1, 'kernel': 'linear'}   \n",
              "1         0.1       linear     {'C': 1, 'gamma': 0.1, 'kernel': 'linear'}   \n",
              "2        0.01       linear    {'C': 1, 'gamma': 0.01, 'kernel': 'linear'}   \n",
              "3       0.001       linear   {'C': 1, 'gamma': 0.001, 'kernel': 'linear'}   \n",
              "4      0.0001       linear  {'C': 1, 'gamma': 0.0001, 'kernel': 'linear'}   \n",
              "\n",
              "   split0_test_score  split1_test_score  split2_test_score  split3_test_score  \\\n",
              "0              0.835              0.835             0.8375               0.85   \n",
              "1              0.835              0.835             0.8375               0.85   \n",
              "2              0.835              0.835             0.8375               0.85   \n",
              "3              0.835              0.835             0.8375               0.85   \n",
              "4              0.835              0.835             0.8375               0.85   \n",
              "\n",
              "   split4_test_score  mean_test_score  std_test_score  rank_test_score  \n",
              "0              0.845           0.8405           0.006               25  \n",
              "1              0.845           0.8405           0.006               25  \n",
              "2              0.845           0.8405           0.006               25  \n",
              "3              0.845           0.8405           0.006               25  \n",
              "4              0.845           0.8405           0.006               25  "
            ]
          },
          "execution_count": 8,
          "metadata": {},
          "output_type": "execute_result"
        }
      ]
    },
    {
      "cell_type": "markdown",
      "metadata": {
        "id": "2905afab"
      },
      "source": [
        "**Overview of the results:**"
      ],
      "id": "2905afab"
    },
    {
      "cell_type": "code",
      "metadata": {
        "id": "e94e220f",
        "outputId": "555cbdc9-871c-492d-9199-6b82f3da11b7"
      },
      "source": [
        "import altair as alt\n",
        "\n",
        "result = result[[\"mean_test_score\", \"param_C\", \"param_gamma\", \"param_kernel\"]]\n",
        "\n",
        "poly = alt.Chart(result[result[\"param_kernel\"]=='poly']).mark_rect().encode(\n",
        "    x='param_gamma:O',\n",
        "    y='param_C:O',\n",
        "    color=alt.Color('mean_test_score:Q', scale=alt.Scale(domain=[0.2,1]))\n",
        ")\n",
        "rbf = alt.Chart(result[result[\"param_kernel\"]=='rbf']).mark_rect().encode(\n",
        "    x='param_gamma:O',\n",
        "    y='param_C:O',\n",
        "    color=alt.Color('mean_test_score:Q', scale=alt.Scale(domain=[0.2,1]))\n",
        ")\n",
        "linear = alt.Chart(result[result[\"param_kernel\"]=='linear']).mark_rect().encode(\n",
        "    x='param_gamma:O',\n",
        "    y='param_C:O',\n",
        "    color=alt.Color('mean_test_score:Q', scale=alt.Scale(domain=[0.2,1]))\n",
        ").properties(\n",
        "    width=200,\n",
        "    height=150,\n",
        "    title='Model Accuracy for Linear Kernel'\n",
        ")\n",
        "poly.properties(\n",
        "    width=200,\n",
        "    height=150,\n",
        "    title='Model Accuracy for Polynomial Kernel'\n",
        ")|rbf.properties(\n",
        "    width=200,\n",
        "    height=150,\n",
        "    title='Model Accuracy for RBF Kernel'\n",
        ")|linear"
      ],
      "id": "e94e220f",
      "execution_count": null,
      "outputs": [
        {
          "data": {
            "text/html": [
              "\n",
              "<div id=\"altair-viz-cc952d7eb11542c2a2a1a9a77f361e9f\"></div>\n",
              "<script type=\"text/javascript\">\n",
              "  (function(spec, embedOpt){\n",
              "    let outputDiv = document.currentScript.previousElementSibling;\n",
              "    if (outputDiv.id !== \"altair-viz-cc952d7eb11542c2a2a1a9a77f361e9f\") {\n",
              "      outputDiv = document.getElementById(\"altair-viz-cc952d7eb11542c2a2a1a9a77f361e9f\");\n",
              "    }\n",
              "    const paths = {\n",
              "      \"vega\": \"https://cdn.jsdelivr.net/npm//vega@5?noext\",\n",
              "      \"vega-lib\": \"https://cdn.jsdelivr.net/npm//vega-lib?noext\",\n",
              "      \"vega-lite\": \"https://cdn.jsdelivr.net/npm//vega-lite@4.8.1?noext\",\n",
              "      \"vega-embed\": \"https://cdn.jsdelivr.net/npm//vega-embed@6?noext\",\n",
              "    };\n",
              "\n",
              "    function loadScript(lib) {\n",
              "      return new Promise(function(resolve, reject) {\n",
              "        var s = document.createElement('script');\n",
              "        s.src = paths[lib];\n",
              "        s.async = true;\n",
              "        s.onload = () => resolve(paths[lib]);\n",
              "        s.onerror = () => reject(`Error loading script: ${paths[lib]}`);\n",
              "        document.getElementsByTagName(\"head\")[0].appendChild(s);\n",
              "      });\n",
              "    }\n",
              "\n",
              "    function showError(err) {\n",
              "      outputDiv.innerHTML = `<div class=\"error\" style=\"color:red;\">${err}</div>`;\n",
              "      throw err;\n",
              "    }\n",
              "\n",
              "    function displayChart(vegaEmbed) {\n",
              "      vegaEmbed(outputDiv, spec, embedOpt)\n",
              "        .catch(err => showError(`Javascript Error: ${err.message}<br>This usually means there's a typo in your chart specification. See the javascript console for the full traceback.`));\n",
              "    }\n",
              "\n",
              "    if(typeof define === \"function\" && define.amd) {\n",
              "      requirejs.config({paths});\n",
              "      require([\"vega-embed\"], displayChart, err => showError(`Error loading script: ${err.message}`));\n",
              "    } else if (typeof vegaEmbed === \"function\") {\n",
              "      displayChart(vegaEmbed);\n",
              "    } else {\n",
              "      loadScript(\"vega\")\n",
              "        .then(() => loadScript(\"vega-lite\"))\n",
              "        .then(() => loadScript(\"vega-embed\"))\n",
              "        .catch(showError)\n",
              "        .then(() => displayChart(vegaEmbed));\n",
              "    }\n",
              "  })({\"config\": {\"view\": {\"continuousWidth\": 400, \"continuousHeight\": 300}}, \"hconcat\": [{\"data\": {\"name\": \"data-0d8f91e9444315e4e7b7def88c9a9093\"}, \"mark\": \"rect\", \"encoding\": {\"color\": {\"type\": \"quantitative\", \"field\": \"mean_test_score\", \"scale\": {\"domain\": [0.2, 1]}}, \"x\": {\"type\": \"ordinal\", \"field\": \"param_gamma\"}, \"y\": {\"type\": \"ordinal\", \"field\": \"param_C\"}}, \"height\": 150, \"title\": \"Model Accuracy for Polynomial Kernel\", \"width\": 200}, {\"data\": {\"name\": \"data-c41511076a749eeaf9bd0837caf43494\"}, \"mark\": \"rect\", \"encoding\": {\"color\": {\"type\": \"quantitative\", \"field\": \"mean_test_score\", \"scale\": {\"domain\": [0.2, 1]}}, \"x\": {\"type\": \"ordinal\", \"field\": \"param_gamma\"}, \"y\": {\"type\": \"ordinal\", \"field\": \"param_C\"}}, \"height\": 150, \"title\": \"Model Accuracy for RBF Kernel\", \"width\": 200}, {\"data\": {\"name\": \"data-e9957d63ae8c249c75acb935a592700d\"}, \"mark\": \"rect\", \"encoding\": {\"color\": {\"type\": \"quantitative\", \"field\": \"mean_test_score\", \"scale\": {\"domain\": [0.2, 1]}}, \"x\": {\"type\": \"ordinal\", \"field\": \"param_gamma\"}, \"y\": {\"type\": \"ordinal\", \"field\": \"param_C\"}}, \"height\": 150, \"title\": \"Model Accuracy for Linear Kernel\", \"width\": 200}], \"$schema\": \"https://vega.github.io/schema/vega-lite/v4.8.1.json\", \"datasets\": {\"data-0d8f91e9444315e4e7b7def88c9a9093\": [{\"mean_test_score\": 0.9255000000000001, \"param_C\": 1, \"param_gamma\": 1, \"param_kernel\": \"poly\"}, {\"mean_test_score\": 0.9255000000000001, \"param_C\": 1, \"param_gamma\": 0.1, \"param_kernel\": \"poly\"}, {\"mean_test_score\": 0.9099999999999999, \"param_C\": 1, \"param_gamma\": 0.01, \"param_kernel\": \"poly\"}, {\"mean_test_score\": 0.254, \"param_C\": 1, \"param_gamma\": 0.001, \"param_kernel\": \"poly\"}, {\"mean_test_score\": 0.254, \"param_C\": 1, \"param_gamma\": 0.0001, \"param_kernel\": \"poly\"}, {\"mean_test_score\": 0.9255000000000001, \"param_C\": 10, \"param_gamma\": 1, \"param_kernel\": \"poly\"}, {\"mean_test_score\": 0.9255000000000001, \"param_C\": 10, \"param_gamma\": 0.1, \"param_kernel\": \"poly\"}, {\"mean_test_score\": 0.9235000000000001, \"param_C\": 10, \"param_gamma\": 0.01, \"param_kernel\": \"poly\"}, {\"mean_test_score\": 0.284, \"param_C\": 10, \"param_gamma\": 0.001, \"param_kernel\": \"poly\"}, {\"mean_test_score\": 0.254, \"param_C\": 10, \"param_gamma\": 0.0001, \"param_kernel\": \"poly\"}, {\"mean_test_score\": 0.9255000000000001, \"param_C\": 100, \"param_gamma\": 1, \"param_kernel\": \"poly\"}, {\"mean_test_score\": 0.9255000000000001, \"param_C\": 100, \"param_gamma\": 0.1, \"param_kernel\": \"poly\"}, {\"mean_test_score\": 0.9255000000000001, \"param_C\": 100, \"param_gamma\": 0.01, \"param_kernel\": \"poly\"}, {\"mean_test_score\": 0.8175000000000001, \"param_C\": 100, \"param_gamma\": 0.001, \"param_kernel\": \"poly\"}, {\"mean_test_score\": 0.254, \"param_C\": 100, \"param_gamma\": 0.0001, \"param_kernel\": \"poly\"}, {\"mean_test_score\": 0.9255000000000001, \"param_C\": 1000, \"param_gamma\": 1, \"param_kernel\": \"poly\"}, {\"mean_test_score\": 0.9255000000000001, \"param_C\": 1000, \"param_gamma\": 0.1, \"param_kernel\": \"poly\"}, {\"mean_test_score\": 0.9255000000000001, \"param_C\": 1000, \"param_gamma\": 0.01, \"param_kernel\": \"poly\"}, {\"mean_test_score\": 0.9099999999999999, \"param_C\": 1000, \"param_gamma\": 0.001, \"param_kernel\": \"poly\"}, {\"mean_test_score\": 0.254, \"param_C\": 1000, \"param_gamma\": 0.0001, \"param_kernel\": \"poly\"}], \"data-c41511076a749eeaf9bd0837caf43494\": [{\"mean_test_score\": 0.254, \"param_C\": 1, \"param_gamma\": 1, \"param_kernel\": \"rbf\"}, {\"mean_test_score\": 0.40650000000000003, \"param_C\": 1, \"param_gamma\": 0.1, \"param_kernel\": \"rbf\"}, {\"mean_test_score\": 0.9179999999999999, \"param_C\": 1, \"param_gamma\": 0.01, \"param_kernel\": \"rbf\"}, {\"mean_test_score\": 0.9075, \"param_C\": 1, \"param_gamma\": 0.001, \"param_kernel\": \"rbf\"}, {\"mean_test_score\": 0.8234999999999999, \"param_C\": 1, \"param_gamma\": 0.0001, \"param_kernel\": \"rbf\"}, {\"mean_test_score\": 0.254, \"param_C\": 10, \"param_gamma\": 1, \"param_kernel\": \"rbf\"}, {\"mean_test_score\": 0.43600000000000005, \"param_C\": 10, \"param_gamma\": 0.1, \"param_kernel\": \"rbf\"}, {\"mean_test_score\": 0.9184999999999999, \"param_C\": 10, \"param_gamma\": 0.01, \"param_kernel\": \"rbf\"}, {\"mean_test_score\": 0.9055, \"param_C\": 10, \"param_gamma\": 0.001, \"param_kernel\": \"rbf\"}, {\"mean_test_score\": 0.907, \"param_C\": 10, \"param_gamma\": 0.0001, \"param_kernel\": \"rbf\"}, {\"mean_test_score\": 0.254, \"param_C\": 100, \"param_gamma\": 1, \"param_kernel\": \"rbf\"}, {\"mean_test_score\": 0.43600000000000005, \"param_C\": 100, \"param_gamma\": 0.1, \"param_kernel\": \"rbf\"}, {\"mean_test_score\": 0.9184999999999999, \"param_C\": 100, \"param_gamma\": 0.01, \"param_kernel\": \"rbf\"}, {\"mean_test_score\": 0.8719999999999999, \"param_C\": 100, \"param_gamma\": 0.001, \"param_kernel\": \"rbf\"}, {\"mean_test_score\": 0.9004999999999999, \"param_C\": 100, \"param_gamma\": 0.0001, \"param_kernel\": \"rbf\"}, {\"mean_test_score\": 0.254, \"param_C\": 1000, \"param_gamma\": 1, \"param_kernel\": \"rbf\"}, {\"mean_test_score\": 0.43600000000000005, \"param_C\": 1000, \"param_gamma\": 0.1, \"param_kernel\": \"rbf\"}, {\"mean_test_score\": 0.9184999999999999, \"param_C\": 1000, \"param_gamma\": 0.01, \"param_kernel\": \"rbf\"}, {\"mean_test_score\": 0.8705, \"param_C\": 1000, \"param_gamma\": 0.001, \"param_kernel\": \"rbf\"}, {\"mean_test_score\": 0.852, \"param_C\": 1000, \"param_gamma\": 0.0001, \"param_kernel\": \"rbf\"}], \"data-e9957d63ae8c249c75acb935a592700d\": [{\"mean_test_score\": 0.8404999999999999, \"param_C\": 1, \"param_gamma\": 1, \"param_kernel\": \"linear\"}, {\"mean_test_score\": 0.8404999999999999, \"param_C\": 1, \"param_gamma\": 0.1, \"param_kernel\": \"linear\"}, {\"mean_test_score\": 0.8404999999999999, \"param_C\": 1, \"param_gamma\": 0.01, \"param_kernel\": \"linear\"}, {\"mean_test_score\": 0.8404999999999999, \"param_C\": 1, \"param_gamma\": 0.001, \"param_kernel\": \"linear\"}, {\"mean_test_score\": 0.8404999999999999, \"param_C\": 1, \"param_gamma\": 0.0001, \"param_kernel\": \"linear\"}, {\"mean_test_score\": 0.837, \"param_C\": 10, \"param_gamma\": 1, \"param_kernel\": \"linear\"}, {\"mean_test_score\": 0.837, \"param_C\": 10, \"param_gamma\": 0.1, \"param_kernel\": \"linear\"}, {\"mean_test_score\": 0.837, \"param_C\": 10, \"param_gamma\": 0.01, \"param_kernel\": \"linear\"}, {\"mean_test_score\": 0.837, \"param_C\": 10, \"param_gamma\": 0.001, \"param_kernel\": \"linear\"}, {\"mean_test_score\": 0.837, \"param_C\": 10, \"param_gamma\": 0.0001, \"param_kernel\": \"linear\"}, {\"mean_test_score\": 0.837, \"param_C\": 100, \"param_gamma\": 1, \"param_kernel\": \"linear\"}, {\"mean_test_score\": 0.837, \"param_C\": 100, \"param_gamma\": 0.1, \"param_kernel\": \"linear\"}, {\"mean_test_score\": 0.837, \"param_C\": 100, \"param_gamma\": 0.01, \"param_kernel\": \"linear\"}, {\"mean_test_score\": 0.837, \"param_C\": 100, \"param_gamma\": 0.001, \"param_kernel\": \"linear\"}, {\"mean_test_score\": 0.837, \"param_C\": 100, \"param_gamma\": 0.0001, \"param_kernel\": \"linear\"}, {\"mean_test_score\": 0.837, \"param_C\": 1000, \"param_gamma\": 1, \"param_kernel\": \"linear\"}, {\"mean_test_score\": 0.837, \"param_C\": 1000, \"param_gamma\": 0.1, \"param_kernel\": \"linear\"}, {\"mean_test_score\": 0.837, \"param_C\": 1000, \"param_gamma\": 0.01, \"param_kernel\": \"linear\"}, {\"mean_test_score\": 0.837, \"param_C\": 1000, \"param_gamma\": 0.001, \"param_kernel\": \"linear\"}, {\"mean_test_score\": 0.837, \"param_C\": 1000, \"param_gamma\": 0.0001, \"param_kernel\": \"linear\"}]}}, {\"mode\": \"vega-lite\"});\n",
              "</script>"
            ],
            "text/plain": [
              "alt.HConcatChart(...)"
            ]
          },
          "execution_count": 9,
          "metadata": {},
          "output_type": "execute_result"
        }
      ]
    },
    {
      "cell_type": "markdown",
      "metadata": {
        "id": "2fb1cca3"
      },
      "source": [
        "**Top 5 best performing hyperparameters:**"
      ],
      "id": "2fb1cca3"
    },
    {
      "cell_type": "code",
      "metadata": {
        "id": "46ef01ce",
        "outputId": "7f2e0368-8ead-4166-928a-50de90c18ef2"
      },
      "source": [
        "result.sort_values('mean_test_score', ascending=False).head(5)"
      ],
      "id": "46ef01ce",
      "execution_count": null,
      "outputs": [
        {
          "data": {
            "text/html": [
              "<div>\n",
              "<style scoped>\n",
              "    .dataframe tbody tr th:only-of-type {\n",
              "        vertical-align: middle;\n",
              "    }\n",
              "\n",
              "    .dataframe tbody tr th {\n",
              "        vertical-align: top;\n",
              "    }\n",
              "\n",
              "    .dataframe thead th {\n",
              "        text-align: right;\n",
              "    }\n",
              "</style>\n",
              "<table border=\"1\" class=\"dataframe\">\n",
              "  <thead>\n",
              "    <tr style=\"text-align: right;\">\n",
              "      <th></th>\n",
              "      <th>mean_test_score</th>\n",
              "      <th>param_C</th>\n",
              "      <th>param_gamma</th>\n",
              "      <th>param_kernel</th>\n",
              "    </tr>\n",
              "  </thead>\n",
              "  <tbody>\n",
              "    <tr>\n",
              "      <th>51</th>\n",
              "      <td>0.9255</td>\n",
              "      <td>100</td>\n",
              "      <td>0.1</td>\n",
              "      <td>poly</td>\n",
              "    </tr>\n",
              "    <tr>\n",
              "      <th>55</th>\n",
              "      <td>0.9255</td>\n",
              "      <td>1000</td>\n",
              "      <td>1</td>\n",
              "      <td>poly</td>\n",
              "    </tr>\n",
              "    <tr>\n",
              "      <th>56</th>\n",
              "      <td>0.9255</td>\n",
              "      <td>1000</td>\n",
              "      <td>0.1</td>\n",
              "      <td>poly</td>\n",
              "    </tr>\n",
              "    <tr>\n",
              "      <th>57</th>\n",
              "      <td>0.9255</td>\n",
              "      <td>1000</td>\n",
              "      <td>0.01</td>\n",
              "      <td>poly</td>\n",
              "    </tr>\n",
              "    <tr>\n",
              "      <th>40</th>\n",
              "      <td>0.9255</td>\n",
              "      <td>1</td>\n",
              "      <td>1</td>\n",
              "      <td>poly</td>\n",
              "    </tr>\n",
              "  </tbody>\n",
              "</table>\n",
              "</div>"
            ],
            "text/plain": [
              "    mean_test_score param_C param_gamma param_kernel\n",
              "51           0.9255     100         0.1         poly\n",
              "55           0.9255    1000           1         poly\n",
              "56           0.9255    1000         0.1         poly\n",
              "57           0.9255    1000        0.01         poly\n",
              "40           0.9255       1           1         poly"
            ]
          },
          "execution_count": 22,
          "metadata": {},
          "output_type": "execute_result"
        }
      ]
    },
    {
      "cell_type": "markdown",
      "metadata": {
        "id": "36c2b2ea"
      },
      "source": [
        "**Winner:** \n",
        "\n",
        "   Kernel RBF, C = 1, $\\gamma$ = 0.01"
      ],
      "id": "36c2b2ea"
    },
    {
      "cell_type": "markdown",
      "metadata": {
        "id": "65a92eb6"
      },
      "source": [
        "# Select hyperparameters kernel, C, Gamma according to the results"
      ],
      "id": "65a92eb6"
    },
    {
      "cell_type": "code",
      "metadata": {
        "id": "26c2bd6f"
      },
      "source": [
        "from IPython.display import display\n",
        "from ipywidgets import Dropdown\n",
        "\n",
        "choose_kernel = Dropdown(\n",
        "    options=[('rbf', 'rbf'), ('linear', 'linear'), ('poly', 'poly')],\n",
        "    value='poly',\n",
        "    description='Kernel:',\n",
        ")\n",
        "\n",
        "choose_C = Dropdown(\n",
        "    options=[('1', 1), ('10', 10), ('100', 100), ('1000',1000)],\n",
        "    value=100,\n",
        "    description='C:',\n",
        ")\n",
        "choose_gamma = Dropdown(\n",
        "    options=[('1', 1), ('0.1', 0.1), ('0.01', 0.01),('0.001', 0.001),('0.0001', 0.0001)],\n",
        "    value=0.1,\n",
        "    description='Gamma:',\n",
        ")"
      ],
      "id": "26c2bd6f",
      "execution_count": null,
      "outputs": []
    },
    {
      "cell_type": "code",
      "metadata": {
        "colab": {
          "referenced_widgets": [
            "de5664b1c452402f85c996fb0397a14f"
          ]
        },
        "id": "e3de541c",
        "outputId": "f140c081-5491-4188-d5c1-29677c8bcec7"
      },
      "source": [
        "choose_kernel"
      ],
      "id": "e3de541c",
      "execution_count": null,
      "outputs": [
        {
          "data": {
            "application/vnd.jupyter.widget-view+json": {
              "model_id": "de5664b1c452402f85c996fb0397a14f",
              "version_major": 2,
              "version_minor": 0
            },
            "text/plain": [
              "Dropdown(description='Kernel:', index=2, options=(('rbf', 'rbf'), ('linear', 'linear'), ('poly', 'poly')), val…"
            ]
          },
          "metadata": {},
          "output_type": "display_data"
        }
      ]
    },
    {
      "cell_type": "code",
      "metadata": {
        "colab": {
          "referenced_widgets": [
            "6a9f9ec15f044427bd860bdd4bd407f3"
          ]
        },
        "id": "9505b0b3",
        "outputId": "cad8d7ba-53f0-424a-bb75-0932447f67d6"
      },
      "source": [
        "choose_C"
      ],
      "id": "9505b0b3",
      "execution_count": null,
      "outputs": [
        {
          "data": {
            "application/vnd.jupyter.widget-view+json": {
              "model_id": "6a9f9ec15f044427bd860bdd4bd407f3",
              "version_major": 2,
              "version_minor": 0
            },
            "text/plain": [
              "Dropdown(description='C:', index=2, options=(('1', 1), ('10', 10), ('100', 100), ('1000', 1000)), value=100)"
            ]
          },
          "metadata": {},
          "output_type": "display_data"
        }
      ]
    },
    {
      "cell_type": "code",
      "metadata": {
        "scrolled": true,
        "colab": {
          "referenced_widgets": [
            "681ab57eb0a948c996a9849b3f5e37ac"
          ]
        },
        "id": "14cfbde7",
        "outputId": "b0e5b3f0-56dc-4077-884e-51162c1adff6"
      },
      "source": [
        "choose_gamma"
      ],
      "id": "14cfbde7",
      "execution_count": null,
      "outputs": [
        {
          "data": {
            "application/vnd.jupyter.widget-view+json": {
              "model_id": "681ab57eb0a948c996a9849b3f5e37ac",
              "version_major": 2,
              "version_minor": 0
            },
            "text/plain": [
              "Dropdown(description='Gamma:', index=1, options=(('1', 1), ('0.1', 0.1), ('0.01', 0.01), ('0.001', 0.001), ('0…"
            ]
          },
          "metadata": {},
          "output_type": "display_data"
        }
      ]
    },
    {
      "cell_type": "code",
      "metadata": {
        "id": "9438a5f0",
        "outputId": "38f97bd2-df7a-4339-df9e-2d3683ba9475"
      },
      "source": [
        "print(\"Your selection: (K: \",choose_kernel.value, \", C: \",choose_C.value, \", Gamma: \",choose_gamma.value,\")\", sep=\"\")"
      ],
      "id": "9438a5f0",
      "execution_count": null,
      "outputs": [
        {
          "name": "stdout",
          "output_type": "stream",
          "text": [
            "Your selection: (K: poly, C: 100, Gamma: 0.1)\n"
          ]
        }
      ]
    },
    {
      "cell_type": "markdown",
      "metadata": {
        "id": "56fee8fc"
      },
      "source": [
        "# NOW THAT WE HAVE CHOSEN THE HYPERPARAMETERS LETS TRAIN AND TEST OUR FINAL MODEL"
      ],
      "id": "56fee8fc"
    },
    {
      "cell_type": "markdown",
      "metadata": {
        "id": "abe2d47b"
      },
      "source": [
        "We divide our set in train 75% and test 25%:"
      ],
      "id": "abe2d47b"
    },
    {
      "cell_type": "code",
      "metadata": {
        "id": "069e2e5a",
        "outputId": "74e5a446-89c8-477c-d36c-7fb707da3225"
      },
      "source": [
        "X = dataset.iloc[:,1:]\n",
        "y = dataset.iloc[:,0]\n",
        "X_train, X_test, y_train, y_test = train_test_split(X, y, test_size = 0.25, random_state = 0)\n",
        "sns.countplot(y_train)"
      ],
      "id": "069e2e5a",
      "execution_count": null,
      "outputs": [
        {
          "name": "stderr",
          "output_type": "stream",
          "text": [
            "/home/gonzalo/.local/lib/python3.6/site-packages/seaborn/_decorators.py:43: FutureWarning: Pass the following variable as a keyword arg: x. From version 0.12, the only valid positional argument will be `data`, and passing other arguments without an explicit keyword will result in an error or misinterpretation.\n",
            "  FutureWarning\n"
          ]
        },
        {
          "data": {
            "text/plain": [
              "<AxesSubplot:xlabel='label', ylabel='count'>"
            ]
          },
          "execution_count": 28,
          "metadata": {},
          "output_type": "execute_result"
        },
        {
          "data": {
            "image/png": "[encoded data removed]",
            "text/plain": [
              "<Figure size 432x288 with 1 Axes>"
            ]
          },
          "metadata": {
            "needs_background": "light"
          },
          "output_type": "display_data"
        }
      ]
    },
    {
      "cell_type": "markdown",
      "metadata": {
        "id": "b6059c66"
      },
      "source": [
        "We normalize the data for better results:"
      ],
      "id": "b6059c66"
    },
    {
      "cell_type": "code",
      "metadata": {
        "id": "42b80434"
      },
      "source": [
        "sc_X = StandardScaler()\n",
        "y_testsc_X = StandardScaler()\n",
        "X_train = sc_X.fit_transform(X_train)"
      ],
      "id": "42b80434",
      "execution_count": null,
      "outputs": []
    },
    {
      "cell_type": "code",
      "metadata": {
        "id": "acd9689f"
      },
      "source": [
        "X_test.reset_index(inplace=True, drop=True)\n",
        "X_test_norm = sc_X.transform(X_test)\n",
        "y_test.reset_index(inplace=True, drop=True)"
      ],
      "id": "acd9689f",
      "execution_count": null,
      "outputs": []
    },
    {
      "cell_type": "markdown",
      "metadata": {
        "id": "379de074"
      },
      "source": [
        "Now we define our classifier and train the model:"
      ],
      "id": "379de074"
    },
    {
      "cell_type": "code",
      "metadata": {
        "id": "2ef67453",
        "outputId": "fc48f86a-9b4c-468c-e828-06fef75cb80b"
      },
      "source": [
        "print('SVM Classifier with gamma = 0.01; Kernel = RBF: C = 100')\n",
        "classifier = SVC(C=choose_C.value, gamma=choose_gamma.value, kernel=choose_kernel.value, random_state = 0)\n",
        "classifier.fit(X_train,y_train)"
      ],
      "id": "2ef67453",
      "execution_count": null,
      "outputs": [
        {
          "name": "stdout",
          "output_type": "stream",
          "text": [
            "SVM Classifier with gamma = 0.01; Kernel = RBF: C = 100\n"
          ]
        },
        {
          "data": {
            "text/plain": [
              "SVC(C=100, gamma=0.1, kernel='poly', random_state=0)"
            ]
          },
          "execution_count": 31,
          "metadata": {},
          "output_type": "execute_result"
        }
      ]
    },
    {
      "cell_type": "markdown",
      "metadata": {
        "id": "93eaa9ae"
      },
      "source": [
        "Lets then predict the test:"
      ],
      "id": "93eaa9ae"
    },
    {
      "cell_type": "code",
      "metadata": {
        "id": "8ad1d50e"
      },
      "source": [
        "y_pred = classifier.predict(X_test_norm)"
      ],
      "id": "8ad1d50e",
      "execution_count": null,
      "outputs": []
    },
    {
      "cell_type": "markdown",
      "metadata": {
        "id": "ea1f00ef"
      },
      "source": [
        "### 1.2 Performance Evaluation\n",
        "#### Calculate the Model Accuracy and Confusion Matrix"
      ],
      "id": "ea1f00ef"
    },
    {
      "cell_type": "code",
      "metadata": {
        "id": "280390c7"
      },
      "source": [
        "model_acc = classifier.score(X_test_norm, y_test)\n",
        "test_acc = accuracy_score(y_test, y_pred)\n",
        "conf_mat = confusion_matrix(y_test,y_pred)"
      ],
      "id": "280390c7",
      "execution_count": null,
      "outputs": []
    },
    {
      "cell_type": "code",
      "metadata": {
        "id": "3aa6ddf3",
        "outputId": "507fb256-11ae-4154-bc5d-cabaf7df581e"
      },
      "source": [
        "print('\\nSVM Trained Classifier Accuracy: ', model_acc)\n",
        "print('\\nPredicted Values: ',y_pred[0:5], \"...\")\n",
        "print('\\nAccuracy of Classifier on Validation Images: ',test_acc)\n",
        "print('\\nConfusion Matrix: \\n',conf_mat)"
      ],
      "id": "3aa6ddf3",
      "execution_count": null,
      "outputs": [
        {
          "name": "stdout",
          "output_type": "stream",
          "text": [
            "\n",
            "SVM Trained Classifier Accuracy:  0.9492\n",
            "\n",
            "Predicted Values:  ['cloud' 'cloud' 'sun' 'eyeglasses' 'eyeglasses'] ...\n",
            "\n",
            "Accuracy of Classifier on Validation Images:  0.9492\n",
            "\n",
            "Confusion Matrix: \n",
            " [[2291  114   58   39]\n",
            " [  49 2333   60   19]\n",
            " [  27   37 2444   11]\n",
            " [  11   22   61 2424]]\n"
          ]
        }
      ]
    },
    {
      "cell_type": "code",
      "metadata": {
        "id": "f9ac51cf",
        "outputId": "c8ef1589-4cac-4530-8424-2f22eb600d53"
      },
      "source": [
        "import matplotlib.pyplot as plt\n",
        "plt.matshow(conf_mat)\n",
        "plt.title('Confusion Matrix for Validation Data')\n",
        "plt.colorbar()\n",
        "plt.ylabel('True label')\n",
        "plt.xlabel('Predicted label')\n",
        "plt.show()"
      ],
      "id": "f9ac51cf",
      "execution_count": null,
      "outputs": [
        {
          "data": {
            "image/png": "[encoded data removed]",
            "text/plain": [
              "<Figure size 288x288 with 2 Axes>"
            ]
          },
          "metadata": {
            "needs_background": "light"
          },
          "output_type": "display_data"
        }
      ]
    },
    {
      "cell_type": "markdown",
      "metadata": {
        "id": "add0050f"
      },
      "source": [
        "**Visualize some Sample Image Prediction from 5 random ' test ' samples**"
      ],
      "id": "add0050f"
    },
    {
      "cell_type": "code",
      "metadata": {
        "id": "b16f73fd"
      },
      "source": [
        "X_test = X_test.to_numpy()\n",
        "y_test= y_test.to_numpy()"
      ],
      "id": "b16f73fd",
      "execution_count": null,
      "outputs": []
    },
    {
      "cell_type": "code",
      "metadata": {
        "id": "a0e5d325",
        "outputId": "4754e26a-d430-45e8-a1a8-ab0c6848b692"
      },
      "source": [
        "a = np.random.randint(1,10000,5)\n",
        "for i in a:\n",
        "    two_d = (np.reshape(X_test[i], (28, 28)) * 255).astype(np.uint8)\n",
        "    plt.title('Predicted Label: {0}'.format(y_pred[i]))\n",
        "    plt.imshow(two_d, interpolation='nearest',cmap='gray')\n",
        "    plt.show()"
      ],
      "id": "a0e5d325",
      "execution_count": null,
      "outputs": [
        {
          "data": {
            "image/png": "[encoded data removed]",
            "text/plain": [
              "<Figure size 432x288 with 1 Axes>"
            ]
          },
          "metadata": {
            "needs_background": "light"
          },
          "output_type": "display_data"
        },
        {
          "data": {
            "image/png": "[encoded data removed]",
            "text/plain": [
              "<Figure size 432x288 with 1 Axes>"
            ]
          },
          "metadata": {
            "needs_background": "light"
          },
          "output_type": "display_data"
        },
        {
          "data": {
            "image/png": "[encoded data removed]",
            "text/plain": [
              "<Figure size 432x288 with 1 Axes>"
            ]
          },
          "metadata": {
            "needs_background": "light"
          },
          "output_type": "display_data"
        },
        {
          "data": {
            "image/png": "[encoded data removed]",
            "text/plain": [
              "<Figure size 432x288 with 1 Axes>"
            ]
          },
          "metadata": {
            "needs_background": "light"
          },
          "output_type": "display_data"
        },
        {
          "data": {
            "image/png": "[encoded data removed]",
            "text/plain": [
              "<Figure size 432x288 with 1 Axes>"
            ]
          },
          "metadata": {
            "needs_background": "light"
          },
          "output_type": "display_data"
        }
      ]
    }
  ]
}