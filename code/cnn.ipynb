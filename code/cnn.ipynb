{
  "nbformat": 4,
  "nbformat_minor": 5,
  "metadata": {
    "kernelspec": {
      "display_name": "Python 3",
      "language": "python",
      "name": "python3"
    },
    "language_info": {
      "codemirror_mode": {
        "name": "ipython",
        "version": 3
      },
      "file_extension": ".py",
      "mimetype": "text/x-python",
      "name": "python",
      "nbconvert_exporter": "python",
      "pygments_lexer": "ipython3",
      "version": "3.6.9"
    },
    "colab": {
      "name": "cnn.ipynb",
      "provenance": [],
      "collapsed_sections": []
    }
  },
  "cells": [
    {
      "cell_type": "markdown",
      "metadata": {
        "id": "3yD7eCZSDb2-"
      },
      "source": [
        "# MACHINE LERNING FOR DRAWINGS CLASSIFICATION\n",
        "### IMPLEMENTATION OF A CNN FOR MULTICLASS CLASSIFICATION"
      ],
      "id": "3yD7eCZSDb2-"
    },
    {
      "cell_type": "code",
      "metadata": {
        "id": "250e1238"
      },
      "source": [
        "import torch"
      ],
      "id": "250e1238",
      "execution_count": null,
      "outputs": []
    },
    {
      "cell_type": "code",
      "metadata": {
        "colab": {
          "base_uri": "https://localhost:8080/"
        },
        "id": "d1ef9ab5",
        "outputId": "5228a1aa-a4f7-456f-cda7-f6c6f1e95c94"
      },
      "source": [
        "# Device configuration\n",
        "device = torch.device('cuda' if torch.cuda.is_available() else 'cpu')\n",
        "device"
      ],
      "id": "d1ef9ab5",
      "execution_count": null,
      "outputs": [
        {
          "output_type": "execute_result",
          "data": {
            "text/plain": [
              "device(type='cpu')"
            ]
          },
          "metadata": {},
          "execution_count": 2
        }
      ]
    },
    {
      "cell_type": "markdown",
      "metadata": {
        "id": "eIACfAW0EUW7"
      },
      "source": [
        "#Data loading and formatting:"
      ],
      "id": "eIACfAW0EUW7"
    },
    {
      "cell_type": "code",
      "metadata": {
        "id": "2a31a61f"
      },
      "source": [
        "import urllib.request\n",
        "import os \n",
        "import numpy as np\n",
        "import errno\n",
        "\n",
        "def download_and_load(test_split = 0.2, max_items_per_class = 20000):\n",
        "    root = 'data'\n",
        "    try:\n",
        "        os.mkdir(root)\n",
        "    except OSError as exc:\n",
        "        if exc.errno != errno.EEXIST:\n",
        "            raise\n",
        "        pass   \n",
        "    print('downloading ...')\n",
        "    base = 'https://storage.googleapis.com/quickdraw_dataset/full/numpy_bitmap/'\n",
        "    for c in class_names:\n",
        "        path = base+c+'.npy'\n",
        "        print(path)\n",
        "        urllib.request.urlretrieve(path, f'{root}/{c}.npy')\n",
        "    print('loading ...')\n",
        "  \n",
        "    #initialize variables \n",
        "    x = np.empty([0, 784])\n",
        "    y = np.empty([0])\n",
        "    \n",
        "    #load each data file \n",
        "    for idx, file in enumerate(class_names):\n",
        "        data = np.load(f'{root}/{file}.npy')\n",
        "        data = data[0: max_items_per_class, :]\n",
        "        labels = np.full(data.shape[0], idx)\n",
        "\n",
        "        x = np.concatenate((x, data), axis=0)\n",
        "        y = np.append(y, labels)\n",
        "\n",
        "    data = None\n",
        "    labels = None\n",
        "\n",
        "    #randomize the dataset \n",
        "    permutation = np.random.permutation(y.shape[0])\n",
        "    x = x[permutation, :]\n",
        "    y = y[permutation]\n",
        "\n",
        "    #reshape and inverse the colors \n",
        "    x = 255 - np.reshape(x, (x.shape[0], 28, 28))\n",
        "\n",
        "    #separate into training and testing \n",
        "    test_size  = int(x.shape[0]/100*(test_split*100))\n",
        "\n",
        "    x_test = x[0:test_size, :]\n",
        "    y_test = y[0:test_size]\n",
        "\n",
        "    x_train = x[test_size:x.shape[0], :]\n",
        "    y_train = y[test_size:y.shape[0]]\n",
        "  \n",
        "    print('Training Data : ', x_train.shape[0])\n",
        "    print('Testing  Data : ', x_test.shape[0])\n",
        "    return x_train, y_train, x_test, y_test, class_names"
      ],
      "id": "2a31a61f",
      "execution_count": null,
      "outputs": []
    },
    {
      "cell_type": "code",
      "metadata": {
        "id": "eaf452e7"
      },
      "source": [
        "class_names = ['cloud','sun', 'umbrella', 'eyeglasses']\n",
        "#,'pants',,'table','ladder','eyeglasses','clock','scissors','cup']"
      ],
      "id": "eaf452e7",
      "execution_count": null,
      "outputs": []
    },
    {
      "cell_type": "markdown",
      "metadata": {
        "id": "caGNRrTJEYBf"
      },
      "source": [
        "#Building the model:"
      ],
      "id": "caGNRrTJEYBf"
    },
    {
      "cell_type": "code",
      "metadata": {
        "scrolled": true,
        "colab": {
          "base_uri": "https://localhost:8080/"
        },
        "id": "7e69284d",
        "outputId": "b270e5d2-b59a-4f28-c539-19c68fbc4f75"
      },
      "source": [
        "import os\n",
        "import glob\n",
        "import numpy as np\n",
        "import matplotlib.pyplot as plt\n",
        "import pandas as pd\n",
        "x_train, y_train, x_test, y_test, class_names = download_and_load()"
      ],
      "id": "7e69284d",
      "execution_count": null,
      "outputs": [
        {
          "output_type": "stream",
          "name": "stdout",
          "text": [
            "downloading ...\n",
            "https://storage.googleapis.com/quickdraw_dataset/full/numpy_bitmap/cloud.npy\n",
            "https://storage.googleapis.com/quickdraw_dataset/full/numpy_bitmap/sun.npy\n",
            "https://storage.googleapis.com/quickdraw_dataset/full/numpy_bitmap/umbrella.npy\n",
            "https://storage.googleapis.com/quickdraw_dataset/full/numpy_bitmap/eyeglasses.npy\n",
            "loading ...\n",
            "Training Data :  64000\n",
            "Testing  Data :  16000\n"
          ]
        }
      ]
    },
    {
      "cell_type": "code",
      "metadata": {
        "id": "d42ab256"
      },
      "source": [
        "x_train= torch.Tensor(x_train)\n",
        "y_train= torch.Tensor(y_train).type(torch.uint8)\n",
        "x_test= torch.Tensor(x_test)\n",
        "y_test= torch.Tensor(y_test).type(torch.uint8)"
      ],
      "id": "d42ab256",
      "execution_count": null,
      "outputs": []
    },
    {
      "cell_type": "code",
      "metadata": {
        "id": "09b0e31a"
      },
      "source": [
        "from torch.utils.data import TensorDataset, DataLoader\n",
        "from torchvision.transforms import ToTensor\n",
        "train_dataset = TensorDataset(x_train,y_train)\n",
        "test_dataset = TensorDataset(x_test,y_test)"
      ],
      "id": "09b0e31a",
      "execution_count": null,
      "outputs": []
    },
    {
      "cell_type": "code",
      "metadata": {
        "colab": {
          "base_uri": "https://localhost:8080/",
          "height": 281
        },
        "id": "994f10c4",
        "outputId": "6595080a-9d76-4a89-f013-816e9ad53fcf"
      },
      "source": [
        "import matplotlib.pyplot as plt\n",
        "plt.imshow(x_train[0], cmap='gray')\n",
        "plt.title('%i' % y_train[0])\n",
        "plt.show()"
      ],
      "id": "994f10c4",
      "execution_count": null,
      "outputs": [
        {
          "output_type": "display_data",
          "data": {
            "image/png": "[encoded data removed]",
            "text/plain": [
              "<Figure size 432x288 with 1 Axes>"
            ]
          },
          "metadata": {
            "needs_background": "light"
          }
        }
      ]
    },
    {
      "cell_type": "code",
      "metadata": {
        "colab": {
          "base_uri": "https://localhost:8080/"
        },
        "id": "92b283d0",
        "outputId": "733d8383-bcbc-4145-99c5-8b7b491fbc09"
      },
      "source": [
        "train_dataset"
      ],
      "id": "92b283d0",
      "execution_count": null,
      "outputs": [
        {
          "output_type": "execute_result",
          "data": {
            "text/plain": [
              "<torch.utils.data.dataset.TensorDataset at 0x7f8c7f588750>"
            ]
          },
          "metadata": {},
          "execution_count": 9
        }
      ]
    },
    {
      "cell_type": "code",
      "metadata": {
        "colab": {
          "base_uri": "https://localhost:8080/",
          "height": 482
        },
        "id": "4e09b7bf",
        "outputId": "2536d1b6-b377-4478-80e8-0a9cd054feb5"
      },
      "source": [
        "figure = plt.figure(figsize=(10, 8))\n",
        "cols, rows = 5, 5\n",
        "for i in range(1, cols * rows + 1):\n",
        "    sample_idx = torch.randint(len(x_train), size=(1,)).item()\n",
        "    img = x_train[sample_idx]\n",
        "    label = class_names[y_train[sample_idx].item()]\n",
        "    figure.add_subplot(rows, cols, i)\n",
        "    plt.title(label)\n",
        "    plt.axis(\"off\")\n",
        "    plt.imshow(img.squeeze(), cmap=\"gray\")\n",
        "plt.show()"
      ],
      "id": "4e09b7bf",
      "execution_count": null,
      "outputs": [
        {
          "output_type": "display_data",
          "data": {
            "image/png": "[encoded data removed]",
            "text/plain": [
              "<Figure size 720x576 with 25 Axes>"
            ]
          },
          "metadata": {
            "needs_background": "light"
          }
        }
      ]
    },
    {
      "cell_type": "code",
      "metadata": {
        "colab": {
          "base_uri": "https://localhost:8080/"
        },
        "id": "58975519",
        "outputId": "bf7e91fc-18f1-4feb-c639-b1b2329509e2"
      },
      "source": [
        "from torch.utils.data import DataLoader\n",
        "loaders = {\n",
        "    'train' : torch.utils.data.DataLoader(train_dataset, \n",
        "                                          batch_size=100, \n",
        "                                          shuffle=True, \n",
        "                                          num_workers=1),\n",
        "    \n",
        "    'test'  : torch.utils.data.DataLoader(test_dataset, \n",
        "                                          batch_size=100, \n",
        "                                          shuffle=True, \n",
        "                                          num_workers=1),\n",
        "}\n",
        "loaders"
      ],
      "id": "58975519",
      "execution_count": null,
      "outputs": [
        {
          "output_type": "execute_result",
          "data": {
            "text/plain": [
              "{'test': <torch.utils.data.dataloader.DataLoader at 0x7f8c7bc09c90>,\n",
              " 'train': <torch.utils.data.dataloader.DataLoader at 0x7f8c7bc09fd0>}"
            ]
          },
          "metadata": {},
          "execution_count": 11
        }
      ]
    },
    {
      "cell_type": "code",
      "metadata": {
        "id": "9c929e8a"
      },
      "source": [
        "import torch.nn as nn\n",
        "class CNN(nn.Module):\n",
        "    def __init__(self):\n",
        "        super(CNN, self).__init__()\n",
        "        self.conv1 = nn.Sequential(         \n",
        "            nn.Conv2d(\n",
        "                in_channels=1,              \n",
        "                out_channels=16,            \n",
        "                kernel_size=5,              \n",
        "                stride=1,                   \n",
        "                padding=2,                  \n",
        "            ),                              \n",
        "            nn.ReLU(),                      \n",
        "            nn.MaxPool2d(kernel_size=2),    \n",
        "        )\n",
        "        self.conv2 = nn.Sequential(         \n",
        "            nn.Conv2d(16, 32, 5, 1, 2),     \n",
        "            nn.ReLU(),                      \n",
        "            nn.MaxPool2d(2),                \n",
        "        )\n",
        "        # fully connected layer, output 10 classes\n",
        "        self.out = nn.Linear(32 * 7 * 7, len(class_names))\n",
        "    def forward(self, x):\n",
        "        x = self.conv1(x)\n",
        "        x = self.conv2(x)\n",
        "        # flatten the output of conv2 to (batch_size, 32 * 7 * 7)\n",
        "        x = x.view(x.size(0), -1)       \n",
        "        output = self.out(x)\n",
        "        return output, x    # return x for visualization"
      ],
      "id": "9c929e8a",
      "execution_count": null,
      "outputs": []
    },
    {
      "cell_type": "code",
      "metadata": {
        "colab": {
          "base_uri": "https://localhost:8080/"
        },
        "id": "43077d5a",
        "outputId": "14185e96-8464-437a-96f2-418a07888c77"
      },
      "source": [
        "cnn = CNN()\n",
        "print(cnn)"
      ],
      "id": "43077d5a",
      "execution_count": null,
      "outputs": [
        {
          "output_type": "stream",
          "name": "stdout",
          "text": [
            "CNN(\n",
            "  (conv1): Sequential(\n",
            "    (0): Conv2d(1, 16, kernel_size=(5, 5), stride=(1, 1), padding=(2, 2))\n",
            "    (1): ReLU()\n",
            "    (2): MaxPool2d(kernel_size=2, stride=2, padding=0, dilation=1, ceil_mode=False)\n",
            "  )\n",
            "  (conv2): Sequential(\n",
            "    (0): Conv2d(16, 32, kernel_size=(5, 5), stride=(1, 1), padding=(2, 2))\n",
            "    (1): ReLU()\n",
            "    (2): MaxPool2d(kernel_size=2, stride=2, padding=0, dilation=1, ceil_mode=False)\n",
            "  )\n",
            "  (out): Linear(in_features=1568, out_features=4, bias=True)\n",
            ")\n"
          ]
        }
      ]
    },
    {
      "cell_type": "code",
      "metadata": {
        "colab": {
          "base_uri": "https://localhost:8080/"
        },
        "id": "4740f734",
        "outputId": "b85abf8b-e833-4d80-c05c-b426a077c7b6"
      },
      "source": [
        "loss_func = nn.CrossEntropyLoss()   \n",
        "loss_func"
      ],
      "id": "4740f734",
      "execution_count": null,
      "outputs": [
        {
          "output_type": "execute_result",
          "data": {
            "text/plain": [
              "CrossEntropyLoss()"
            ]
          },
          "metadata": {},
          "execution_count": 14
        }
      ]
    },
    {
      "cell_type": "code",
      "metadata": {
        "colab": {
          "base_uri": "https://localhost:8080/"
        },
        "id": "cc960bdb",
        "outputId": "0dcd7b0f-fa67-4b83-caa1-3810257937fd"
      },
      "source": [
        "from torch import optim\n",
        "optimizer = optim.Adam(cnn.parameters(), lr = 0.01)   \n",
        "optimizer"
      ],
      "id": "cc960bdb",
      "execution_count": null,
      "outputs": [
        {
          "output_type": "execute_result",
          "data": {
            "text/plain": [
              "Adam (\n",
              "Parameter Group 0\n",
              "    amsgrad: False\n",
              "    betas: (0.9, 0.999)\n",
              "    eps: 1e-08\n",
              "    lr: 0.01\n",
              "    weight_decay: 0\n",
              ")"
            ]
          },
          "metadata": {},
          "execution_count": 15
        }
      ]
    },
    {
      "cell_type": "markdown",
      "metadata": {
        "id": "fPhkOX5tEKS1"
      },
      "source": [
        "# Train and test the model:"
      ],
      "id": "fPhkOX5tEKS1"
    },
    {
      "cell_type": "code",
      "metadata": {
        "id": "a5ef12bb"
      },
      "source": [
        "def valid_epoch(epoch):\n",
        "    # Test the model\n",
        "    cnn.eval()\n",
        "    eval_loss = 0\n",
        "    acc = 0\n",
        "    with torch.no_grad():\n",
        "        correct = 0\n",
        "        total = 0\n",
        "        for images, labels in loaders['test']:\n",
        "          images = images.to('cuda' if torch.cuda.is_available() else 'cpu')\n",
        "          labels = labels.to('cuda' if torch.cuda.is_available() else 'cpu')\n",
        "          test_output, last_layer = cnn(images.reshape((100,1, 28, 28)))\n",
        "          pred_y = torch.max(test_output, 1)[1].data.squeeze()\n",
        "          accuracy = (pred_y == labels).sum().item() / float(labels.size(0))\n",
        "          eval_loss += loss_func(test_output, labels).item() # sum up batch loss\n",
        "          # compute number of correct predictions in the batch\n",
        "          acc += correct_predictions(test_output, labels)\n",
        "          pass\n",
        "    \n",
        "    # Average acc across all correct predictions batches now\n",
        "    eval_loss /= len(loaders['test'])\n",
        "    eval_acc = 100. * acc / len(loaders['test'].dataset)\n",
        "    print('Eval set: Average loss: {:.4f}, Accuracy: {}/{} ({:.0f}%)'.format(\n",
        "        eval_loss, acc, len(loaders['test'].dataset), eval_acc,\n",
        "        ))\n",
        "    return eval_loss, eval_acc"
      ],
      "id": "a5ef12bb",
      "execution_count": null,
      "outputs": []
    },
    {
      "cell_type": "code",
      "metadata": {
        "id": "1tycecj9e8mq"
      },
      "source": [
        "def train_epoch(epoch):\n",
        "  cnn.train()\n",
        "  losses = []\n",
        "  accs = []\n",
        "  for i, (images, labels) in enumerate(loaders['train']):\n",
        "    # gives batch data, normalize x when iterate train_loader\n",
        "    b_x = Variable(images).reshape((100,1, 28, 28))   # batch x\n",
        "    b_y = Variable(labels)   # batch y\n",
        "    b_x = b_x.to('cuda' if torch.cuda.is_available() else 'cpu')\n",
        "    b_y = b_y.to('cuda' if torch.cuda.is_available() else 'cpu')\n",
        "\n",
        "    # clear gradients for this training step   \n",
        "    optimizer.zero_grad()\n",
        "\n",
        "    output = cnn(b_x)[0]               \n",
        "    loss = loss_func(output, b_y)\n",
        "                    \n",
        "    # backpropagation, compute gradients \n",
        "    loss.backward()    \n",
        "\n",
        "    acc = 100 * (correct_predictions(output, b_y) / images.shape[0])\n",
        "    losses.append(loss.item())\n",
        "    accs.append(acc)\n",
        "            \n",
        "    # apply gradients             \n",
        "    optimizer.step()                \n",
        "            \n",
        "    if (i) % 100 == 0:\n",
        "        print('Train Epoch: {} [{}/{} ({:.0f}%)]\\tLoss: {:.6f}\\tAcc: {:.1f}'.format(\n",
        "              epoch, i * len(b_x), len(loaders['train'].dataset),\n",
        "              100. * i / len(loaders['train']), loss.item(),\n",
        "              acc))\n",
        "        pass\n",
        "    \n",
        "    return np.mean(losses), np.mean(accs)\n",
        "\n"
      ],
      "id": "1tycecj9e8mq",
      "execution_count": null,
      "outputs": []
    },
    {
      "cell_type": "code",
      "metadata": {
        "id": "2c97bbb4"
      },
      "source": [
        "from torch.autograd import Variable\n",
        "num_epochs = 40\n",
        "\n",
        "def correct_predictions(predicted_batch, label_batch):\n",
        "  pred = predicted_batch.argmax(dim=1, keepdim=True) # get the index of the max log-probability\n",
        "  acum = pred.eq(label_batch.view_as(pred)).sum().item()\n",
        "  return acum\n",
        "\n",
        "def train(num_epochs, cnn, loaders):\n",
        "\n",
        "    # Train the model\n",
        "    total_step = len(loaders['train'])\n",
        "    tr_losses = []\n",
        "    tr_accs = []\n",
        "    te_losses = []\n",
        "    te_accs = []\n",
        "    cnn.to('cuda' if torch.cuda.is_available() else 'cpu')\n",
        "    cnn.train()\n",
        "\n",
        "\n",
        "    for epoch in range(1, num_epochs+1):\n",
        "\n",
        "      # TRAIN\n",
        "      loss_mean, acc_mean  = train_epoch(epoch)\n",
        "      tr_losses.append(loss_mean)\n",
        "      tr_accs.append(acc_mean)\n",
        "\n",
        "      # VALIDATION\n",
        "      eval_loss, eval_acc = valid_epoch(epoch)\n",
        "      te_losses.append(eval_loss)\n",
        "      te_accs.append(eval_acc)\n",
        "      pass\n",
        "\n",
        "\n",
        "    rets = {'tr_losses':tr_losses, 'te_losses':te_losses,\n",
        "          'tr_accs':tr_accs, 'te_accs':te_accs}\n",
        "    plt.figure(figsize=(10, 8))\n",
        "    plt.subplot(2,1,1)\n",
        "    plt.xlabel('Epoch')\n",
        "    plt.ylabel('NLLLoss')\n",
        "    plt.ylim([0, 200])\n",
        "    plt.plot(tr_losses, label='train')\n",
        "    plt.plot(te_losses, label='eval')\n",
        "    plt.legend()\n",
        "    plt.subplot(2,1,2)\n",
        "    plt.xlabel('Epoch')\n",
        "    plt.ylabel('Eval Accuracy [%]')\n",
        "    plt.ylim([0, 100])\n",
        "    plt.plot(tr_accs, label='train')\n",
        "    plt.plot(te_accs, label='eval')\n",
        "    plt.legend()\n",
        "    pass"
      ],
      "id": "2c97bbb4",
      "execution_count": null,
      "outputs": []
    },
    {
      "cell_type": "code",
      "metadata": {
        "scrolled": true,
        "colab": {
          "base_uri": "https://localhost:8080/",
          "height": 1000
        },
        "id": "9ba8af8c",
        "outputId": "e38124fa-dab7-46a6-e9cf-6ddb6837e45a"
      },
      "source": [
        "train(num_epochs, cnn, loaders)"
      ],
      "id": "9ba8af8c",
      "execution_count": null,
      "outputs": [
        {
          "output_type": "stream",
          "name": "stdout",
          "text": [
            "Train Epoch: 1 [0/64000 (0%)]\tLoss: 20.736458\tAcc: 22.0\n",
            "Eval set: Average loss: 476.7118, Accuracy: 4448/16000 (28%)\n",
            "Train Epoch: 2 [0/64000 (0%)]\tLoss: 523.250061\tAcc: 32.0\n",
            "Eval set: Average loss: 346.0881, Accuracy: 4014/16000 (25%)\n",
            "Train Epoch: 3 [0/64000 (0%)]\tLoss: 378.514557\tAcc: 21.0\n",
            "Eval set: Average loss: 57.7748, Accuracy: 4044/16000 (25%)\n",
            "Train Epoch: 4 [0/64000 (0%)]\tLoss: 55.609043\tAcc: 28.0\n",
            "Eval set: Average loss: 1.7228, Accuracy: 4043/16000 (25%)\n",
            "Train Epoch: 5 [0/64000 (0%)]\tLoss: 1.736616\tAcc: 24.0\n",
            "Eval set: Average loss: 1.3790, Accuracy: 4341/16000 (27%)\n",
            "Train Epoch: 6 [0/64000 (0%)]\tLoss: 1.377502\tAcc: 28.0\n",
            "Eval set: Average loss: 1.7663, Accuracy: 4216/16000 (26%)\n",
            "Train Epoch: 7 [0/64000 (0%)]\tLoss: 1.906378\tAcc: 30.0\n",
            "Eval set: Average loss: 2.0316, Accuracy: 4895/16000 (31%)\n",
            "Train Epoch: 8 [0/64000 (0%)]\tLoss: 1.862951\tAcc: 29.0\n",
            "Eval set: Average loss: 2.2152, Accuracy: 5849/16000 (37%)\n",
            "Train Epoch: 9 [0/64000 (0%)]\tLoss: 2.131490\tAcc: 48.0\n",
            "Eval set: Average loss: 1.3948, Accuracy: 6396/16000 (40%)\n",
            "Train Epoch: 10 [0/64000 (0%)]\tLoss: 1.342992\tAcc: 42.0\n",
            "Eval set: Average loss: 1.1310, Accuracy: 8711/16000 (54%)\n",
            "Train Epoch: 11 [0/64000 (0%)]\tLoss: 0.900124\tAcc: 65.0\n",
            "Eval set: Average loss: 1.0157, Accuracy: 9780/16000 (61%)\n",
            "Train Epoch: 12 [0/64000 (0%)]\tLoss: 1.089034\tAcc: 63.0\n",
            "Eval set: Average loss: 0.8981, Accuracy: 10821/16000 (68%)\n",
            "Train Epoch: 13 [0/64000 (0%)]\tLoss: 0.816657\tAcc: 74.0\n",
            "Eval set: Average loss: 0.8476, Accuracy: 11260/16000 (70%)\n",
            "Train Epoch: 14 [0/64000 (0%)]\tLoss: 0.773759\tAcc: 75.0\n",
            "Eval set: Average loss: 0.8289, Accuracy: 11510/16000 (72%)\n",
            "Train Epoch: 15 [0/64000 (0%)]\tLoss: 0.803434\tAcc: 79.0\n",
            "Eval set: Average loss: 0.8583, Accuracy: 11334/16000 (71%)\n",
            "Train Epoch: 16 [0/64000 (0%)]\tLoss: 0.792235\tAcc: 73.0\n",
            "Eval set: Average loss: 0.8380, Accuracy: 11512/16000 (72%)\n",
            "Train Epoch: 17 [0/64000 (0%)]\tLoss: 0.719085\tAcc: 77.0\n",
            "Eval set: Average loss: 0.8339, Accuracy: 11530/16000 (72%)\n",
            "Train Epoch: 18 [0/64000 (0%)]\tLoss: 0.931476\tAcc: 71.0\n",
            "Eval set: Average loss: 0.8474, Accuracy: 11343/16000 (71%)\n",
            "Train Epoch: 19 [0/64000 (0%)]\tLoss: 0.973130\tAcc: 65.0\n",
            "Eval set: Average loss: 0.8556, Accuracy: 11233/16000 (70%)\n",
            "Train Epoch: 20 [0/64000 (0%)]\tLoss: 0.903575\tAcc: 71.0\n",
            "Eval set: Average loss: 0.8622, Accuracy: 11106/16000 (69%)\n",
            "Train Epoch: 21 [0/64000 (0%)]\tLoss: 0.738983\tAcc: 68.0\n",
            "Eval set: Average loss: 0.8646, Accuracy: 11070/16000 (69%)\n",
            "Train Epoch: 22 [0/64000 (0%)]\tLoss: 0.845036\tAcc: 67.0\n",
            "Eval set: Average loss: 0.8652, Accuracy: 11104/16000 (69%)\n",
            "Train Epoch: 23 [0/64000 (0%)]\tLoss: 0.715045\tAcc: 75.0\n",
            "Eval set: Average loss: 0.8654, Accuracy: 11157/16000 (70%)\n",
            "Train Epoch: 24 [0/64000 (0%)]\tLoss: 1.031328\tAcc: 59.0\n",
            "Eval set: Average loss: 0.8644, Accuracy: 11290/16000 (71%)\n",
            "Train Epoch: 25 [0/64000 (0%)]\tLoss: 0.795923\tAcc: 71.0\n",
            "Eval set: Average loss: 0.8639, Accuracy: 11383/16000 (71%)\n",
            "Train Epoch: 26 [0/64000 (0%)]\tLoss: 0.824744\tAcc: 74.0\n",
            "Eval set: Average loss: 0.8660, Accuracy: 11438/16000 (71%)\n",
            "Train Epoch: 27 [0/64000 (0%)]\tLoss: 0.743100\tAcc: 68.0\n",
            "Eval set: Average loss: 0.8684, Accuracy: 11455/16000 (72%)\n",
            "Train Epoch: 28 [0/64000 (0%)]\tLoss: 0.827429\tAcc: 71.0\n",
            "Eval set: Average loss: 0.8692, Accuracy: 11463/16000 (72%)\n",
            "Train Epoch: 29 [0/64000 (0%)]\tLoss: 0.950742\tAcc: 67.0\n",
            "Eval set: Average loss: 0.8674, Accuracy: 11460/16000 (72%)\n",
            "Train Epoch: 30 [0/64000 (0%)]\tLoss: 0.908686\tAcc: 77.0\n",
            "Eval set: Average loss: 0.8588, Accuracy: 11477/16000 (72%)\n",
            "Train Epoch: 31 [0/64000 (0%)]\tLoss: 0.881048\tAcc: 71.0\n",
            "Eval set: Average loss: 0.8513, Accuracy: 11443/16000 (72%)\n",
            "Train Epoch: 32 [0/64000 (0%)]\tLoss: 0.804092\tAcc: 72.0\n",
            "Eval set: Average loss: 0.8446, Accuracy: 11471/16000 (72%)\n",
            "Train Epoch: 33 [0/64000 (0%)]\tLoss: 0.880717\tAcc: 70.0\n",
            "Eval set: Average loss: 0.8331, Accuracy: 11494/16000 (72%)\n",
            "Train Epoch: 34 [0/64000 (0%)]\tLoss: 0.834882\tAcc: 70.0\n",
            "Eval set: Average loss: 0.8219, Accuracy: 11517/16000 (72%)\n",
            "Train Epoch: 35 [0/64000 (0%)]\tLoss: 0.830923\tAcc: 71.0\n",
            "Eval set: Average loss: 0.8095, Accuracy: 11519/16000 (72%)\n",
            "Train Epoch: 36 [0/64000 (0%)]\tLoss: 0.828587\tAcc: 66.0\n",
            "Eval set: Average loss: 0.8005, Accuracy: 11549/16000 (72%)\n",
            "Train Epoch: 37 [0/64000 (0%)]\tLoss: 0.785130\tAcc: 73.0\n",
            "Eval set: Average loss: 0.7895, Accuracy: 11636/16000 (73%)\n",
            "Train Epoch: 38 [0/64000 (0%)]\tLoss: 0.748711\tAcc: 72.0\n",
            "Eval set: Average loss: 0.7818, Accuracy: 11666/16000 (73%)\n",
            "Train Epoch: 39 [0/64000 (0%)]\tLoss: 0.791838\tAcc: 77.0\n",
            "Eval set: Average loss: 0.7746, Accuracy: 11718/16000 (73%)\n",
            "Train Epoch: 40 [0/64000 (0%)]\tLoss: 0.842348\tAcc: 65.0\n",
            "Eval set: Average loss: 0.7669, Accuracy: 11783/16000 (74%)\n"
          ]
        },
        {
          "output_type": "display_data",
          "data": {
            "image/png": "[encoded data removed]",
            "text/plain": [
              "<Figure size 720x576 with 2 Axes>"
            ]
          },
          "metadata": {
            "needs_background": "light"
          }
        }
      ]
    },
    {
      "cell_type": "code",
      "metadata": {
        "id": "394c0d48"
      },
      "source": [
        "sample = next(iter(loaders['test']))\n",
        "imgs, lbls = sample[:50]"
      ],
      "id": "394c0d48",
      "execution_count": null,
      "outputs": []
    },
    {
      "cell_type": "code",
      "metadata": {
        "id": "4d261955",
        "colab": {
          "base_uri": "https://localhost:8080/"
        },
        "outputId": "8ef9e5e6-0954-42f1-9351-74b8e327e7c5"
      },
      "source": [
        "actual_number = lbls[:50].numpy()\n",
        "actual_number"
      ],
      "id": "4d261955",
      "execution_count": null,
      "outputs": [
        {
          "output_type": "execute_result",
          "data": {
            "text/plain": [
              "array([2, 0, 1, 1, 3, 2, 2, 1, 1, 1, 3, 3, 2, 1, 3, 0, 2, 2, 1, 0, 0, 0,\n",
              "       2, 3, 1, 0, 2, 3, 3, 1, 0, 1, 0, 0, 1, 3, 3, 0, 2, 1, 0, 1, 2, 0,\n",
              "       0, 3, 1, 1, 3, 0], dtype=uint8)"
            ]
          },
          "metadata": {},
          "execution_count": 26
        }
      ]
    },
    {
      "cell_type": "code",
      "metadata": {
        "id": "6ca7a3d4"
      },
      "source": [
        "test_output, last_layer = cnn(imgs[:50].reshape((50,1, 28, 28)))\n",
        "pred_y = torch.max(test_output, 1)[1].data.numpy().squeeze()"
      ],
      "id": "6ca7a3d4",
      "execution_count": null,
      "outputs": []
    },
    {
      "cell_type": "code",
      "metadata": {
        "id": "75097f36"
      },
      "source": [
        "import pandas as pd\n",
        "result = []\n",
        "for i in range(0, len(actual_number)):\n",
        "    result.append( [ class_names[int(actual_number[i])]  , class_names[int(pred_y[i])]])\n",
        "df = pd.DataFrame(result, columns=['Target', 'Predicted'])"
      ],
      "id": "75097f36",
      "execution_count": null,
      "outputs": []
    },
    {
      "cell_type": "code",
      "metadata": {
        "id": "3f33965b",
        "colab": {
          "base_uri": "https://localhost:8080/",
          "height": 1000
        },
        "outputId": "d1ef2a42-df7e-4f70-8be2-dce525367282"
      },
      "source": [
        "df"
      ],
      "id": "3f33965b",
      "execution_count": null,
      "outputs": [
        {
          "output_type": "execute_result",
          "data": {
            "text/html": [
              "<div>\n",
              "<style scoped>\n",
              "    .dataframe tbody tr th:only-of-type {\n",
              "        vertical-align: middle;\n",
              "    }\n",
              "\n",
              "    .dataframe tbody tr th {\n",
              "        vertical-align: top;\n",
              "    }\n",
              "\n",
              "    .dataframe thead th {\n",
              "        text-align: right;\n",
              "    }\n",
              "</style>\n",
              "<table border=\"1\" class=\"dataframe\">\n",
              "  <thead>\n",
              "    <tr style=\"text-align: right;\">\n",
              "      <th></th>\n",
              "      <th>Target</th>\n",
              "      <th>Predicted</th>\n",
              "    </tr>\n",
              "  </thead>\n",
              "  <tbody>\n",
              "    <tr>\n",
              "      <th>0</th>\n",
              "      <td>umbrella</td>\n",
              "      <td>umbrella</td>\n",
              "    </tr>\n",
              "    <tr>\n",
              "      <th>1</th>\n",
              "      <td>cloud</td>\n",
              "      <td>cloud</td>\n",
              "    </tr>\n",
              "    <tr>\n",
              "      <th>2</th>\n",
              "      <td>sun</td>\n",
              "      <td>sun</td>\n",
              "    </tr>\n",
              "    <tr>\n",
              "      <th>3</th>\n",
              "      <td>sun</td>\n",
              "      <td>cloud</td>\n",
              "    </tr>\n",
              "    <tr>\n",
              "      <th>4</th>\n",
              "      <td>eyeglasses</td>\n",
              "      <td>sun</td>\n",
              "    </tr>\n",
              "    <tr>\n",
              "      <th>5</th>\n",
              "      <td>umbrella</td>\n",
              "      <td>umbrella</td>\n",
              "    </tr>\n",
              "    <tr>\n",
              "      <th>6</th>\n",
              "      <td>umbrella</td>\n",
              "      <td>sun</td>\n",
              "    </tr>\n",
              "    <tr>\n",
              "      <th>7</th>\n",
              "      <td>sun</td>\n",
              "      <td>sun</td>\n",
              "    </tr>\n",
              "    <tr>\n",
              "      <th>8</th>\n",
              "      <td>sun</td>\n",
              "      <td>sun</td>\n",
              "    </tr>\n",
              "    <tr>\n",
              "      <th>9</th>\n",
              "      <td>sun</td>\n",
              "      <td>sun</td>\n",
              "    </tr>\n",
              "    <tr>\n",
              "      <th>10</th>\n",
              "      <td>eyeglasses</td>\n",
              "      <td>eyeglasses</td>\n",
              "    </tr>\n",
              "    <tr>\n",
              "      <th>11</th>\n",
              "      <td>eyeglasses</td>\n",
              "      <td>eyeglasses</td>\n",
              "    </tr>\n",
              "    <tr>\n",
              "      <th>12</th>\n",
              "      <td>umbrella</td>\n",
              "      <td>umbrella</td>\n",
              "    </tr>\n",
              "    <tr>\n",
              "      <th>13</th>\n",
              "      <td>sun</td>\n",
              "      <td>sun</td>\n",
              "    </tr>\n",
              "    <tr>\n",
              "      <th>14</th>\n",
              "      <td>eyeglasses</td>\n",
              "      <td>eyeglasses</td>\n",
              "    </tr>\n",
              "    <tr>\n",
              "      <th>15</th>\n",
              "      <td>cloud</td>\n",
              "      <td>cloud</td>\n",
              "    </tr>\n",
              "    <tr>\n",
              "      <th>16</th>\n",
              "      <td>umbrella</td>\n",
              "      <td>umbrella</td>\n",
              "    </tr>\n",
              "    <tr>\n",
              "      <th>17</th>\n",
              "      <td>umbrella</td>\n",
              "      <td>umbrella</td>\n",
              "    </tr>\n",
              "    <tr>\n",
              "      <th>18</th>\n",
              "      <td>sun</td>\n",
              "      <td>sun</td>\n",
              "    </tr>\n",
              "    <tr>\n",
              "      <th>19</th>\n",
              "      <td>cloud</td>\n",
              "      <td>cloud</td>\n",
              "    </tr>\n",
              "    <tr>\n",
              "      <th>20</th>\n",
              "      <td>cloud</td>\n",
              "      <td>cloud</td>\n",
              "    </tr>\n",
              "    <tr>\n",
              "      <th>21</th>\n",
              "      <td>cloud</td>\n",
              "      <td>cloud</td>\n",
              "    </tr>\n",
              "    <tr>\n",
              "      <th>22</th>\n",
              "      <td>umbrella</td>\n",
              "      <td>umbrella</td>\n",
              "    </tr>\n",
              "    <tr>\n",
              "      <th>23</th>\n",
              "      <td>eyeglasses</td>\n",
              "      <td>eyeglasses</td>\n",
              "    </tr>\n",
              "    <tr>\n",
              "      <th>24</th>\n",
              "      <td>sun</td>\n",
              "      <td>sun</td>\n",
              "    </tr>\n",
              "    <tr>\n",
              "      <th>25</th>\n",
              "      <td>cloud</td>\n",
              "      <td>cloud</td>\n",
              "    </tr>\n",
              "    <tr>\n",
              "      <th>26</th>\n",
              "      <td>umbrella</td>\n",
              "      <td>umbrella</td>\n",
              "    </tr>\n",
              "    <tr>\n",
              "      <th>27</th>\n",
              "      <td>eyeglasses</td>\n",
              "      <td>eyeglasses</td>\n",
              "    </tr>\n",
              "    <tr>\n",
              "      <th>28</th>\n",
              "      <td>eyeglasses</td>\n",
              "      <td>eyeglasses</td>\n",
              "    </tr>\n",
              "    <tr>\n",
              "      <th>29</th>\n",
              "      <td>sun</td>\n",
              "      <td>sun</td>\n",
              "    </tr>\n",
              "    <tr>\n",
              "      <th>30</th>\n",
              "      <td>cloud</td>\n",
              "      <td>cloud</td>\n",
              "    </tr>\n",
              "    <tr>\n",
              "      <th>31</th>\n",
              "      <td>sun</td>\n",
              "      <td>cloud</td>\n",
              "    </tr>\n",
              "    <tr>\n",
              "      <th>32</th>\n",
              "      <td>cloud</td>\n",
              "      <td>cloud</td>\n",
              "    </tr>\n",
              "    <tr>\n",
              "      <th>33</th>\n",
              "      <td>cloud</td>\n",
              "      <td>cloud</td>\n",
              "    </tr>\n",
              "    <tr>\n",
              "      <th>34</th>\n",
              "      <td>sun</td>\n",
              "      <td>cloud</td>\n",
              "    </tr>\n",
              "    <tr>\n",
              "      <th>35</th>\n",
              "      <td>eyeglasses</td>\n",
              "      <td>eyeglasses</td>\n",
              "    </tr>\n",
              "    <tr>\n",
              "      <th>36</th>\n",
              "      <td>eyeglasses</td>\n",
              "      <td>eyeglasses</td>\n",
              "    </tr>\n",
              "    <tr>\n",
              "      <th>37</th>\n",
              "      <td>cloud</td>\n",
              "      <td>cloud</td>\n",
              "    </tr>\n",
              "    <tr>\n",
              "      <th>38</th>\n",
              "      <td>umbrella</td>\n",
              "      <td>umbrella</td>\n",
              "    </tr>\n",
              "    <tr>\n",
              "      <th>39</th>\n",
              "      <td>sun</td>\n",
              "      <td>eyeglasses</td>\n",
              "    </tr>\n",
              "    <tr>\n",
              "      <th>40</th>\n",
              "      <td>cloud</td>\n",
              "      <td>eyeglasses</td>\n",
              "    </tr>\n",
              "    <tr>\n",
              "      <th>41</th>\n",
              "      <td>sun</td>\n",
              "      <td>sun</td>\n",
              "    </tr>\n",
              "    <tr>\n",
              "      <th>42</th>\n",
              "      <td>umbrella</td>\n",
              "      <td>umbrella</td>\n",
              "    </tr>\n",
              "    <tr>\n",
              "      <th>43</th>\n",
              "      <td>cloud</td>\n",
              "      <td>sun</td>\n",
              "    </tr>\n",
              "    <tr>\n",
              "      <th>44</th>\n",
              "      <td>cloud</td>\n",
              "      <td>cloud</td>\n",
              "    </tr>\n",
              "    <tr>\n",
              "      <th>45</th>\n",
              "      <td>eyeglasses</td>\n",
              "      <td>sun</td>\n",
              "    </tr>\n",
              "    <tr>\n",
              "      <th>46</th>\n",
              "      <td>sun</td>\n",
              "      <td>sun</td>\n",
              "    </tr>\n",
              "    <tr>\n",
              "      <th>47</th>\n",
              "      <td>sun</td>\n",
              "      <td>sun</td>\n",
              "    </tr>\n",
              "    <tr>\n",
              "      <th>48</th>\n",
              "      <td>eyeglasses</td>\n",
              "      <td>eyeglasses</td>\n",
              "    </tr>\n",
              "    <tr>\n",
              "      <th>49</th>\n",
              "      <td>cloud</td>\n",
              "      <td>cloud</td>\n",
              "    </tr>\n",
              "  </tbody>\n",
              "</table>\n",
              "</div>"
            ],
            "text/plain": [
              "        Target   Predicted\n",
              "0     umbrella    umbrella\n",
              "1        cloud       cloud\n",
              "2          sun         sun\n",
              "3          sun       cloud\n",
              "4   eyeglasses         sun\n",
              "5     umbrella    umbrella\n",
              "6     umbrella         sun\n",
              "7          sun         sun\n",
              "8          sun         sun\n",
              "9          sun         sun\n",
              "10  eyeglasses  eyeglasses\n",
              "11  eyeglasses  eyeglasses\n",
              "12    umbrella    umbrella\n",
              "13         sun         sun\n",
              "14  eyeglasses  eyeglasses\n",
              "15       cloud       cloud\n",
              "16    umbrella    umbrella\n",
              "17    umbrella    umbrella\n",
              "18         sun         sun\n",
              "19       cloud       cloud\n",
              "20       cloud       cloud\n",
              "21       cloud       cloud\n",
              "22    umbrella    umbrella\n",
              "23  eyeglasses  eyeglasses\n",
              "24         sun         sun\n",
              "25       cloud       cloud\n",
              "26    umbrella    umbrella\n",
              "27  eyeglasses  eyeglasses\n",
              "28  eyeglasses  eyeglasses\n",
              "29         sun         sun\n",
              "30       cloud       cloud\n",
              "31         sun       cloud\n",
              "32       cloud       cloud\n",
              "33       cloud       cloud\n",
              "34         sun       cloud\n",
              "35  eyeglasses  eyeglasses\n",
              "36  eyeglasses  eyeglasses\n",
              "37       cloud       cloud\n",
              "38    umbrella    umbrella\n",
              "39         sun  eyeglasses\n",
              "40       cloud  eyeglasses\n",
              "41         sun         sun\n",
              "42    umbrella    umbrella\n",
              "43       cloud         sun\n",
              "44       cloud       cloud\n",
              "45  eyeglasses         sun\n",
              "46         sun         sun\n",
              "47         sun         sun\n",
              "48  eyeglasses  eyeglasses\n",
              "49       cloud       cloud"
            ]
          },
          "metadata": {},
          "execution_count": 29
        }
      ]
    }
  ]
}